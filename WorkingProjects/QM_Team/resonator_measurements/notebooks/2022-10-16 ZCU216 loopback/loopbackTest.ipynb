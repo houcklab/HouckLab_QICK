{
 "cells": [
  {
   "cell_type": "code",
   "execution_count": 1,
   "id": "c26dbe6b",
   "metadata": {},
   "outputs": [
    {
     "name": "stdout",
     "output_type": "stream",
     "text": [
      "Could not import QickSoc: No module named 'pynq'\n"
     ]
    },
    {
     "data": {
      "text/plain": [
       "<AddedDllDirectory('C:\\\\Users\\\\my\\\\Documents\\\\GitHub\\\\ZCU216_Russell\\\\res_dev\\\\notebooks\\\\2022-10-16 ZCU216 loopback/../../Client_modules/PythonDrivers')>"
      ]
     },
     "execution_count": 1,
     "metadata": {},
     "output_type": "execute_result"
    }
   ],
   "source": [
    "# add our custom modules to the python import path\n",
    "import sys\n",
    "import os\n",
    "import numpy as np\n",
    "from qick import *\n",
    "sys.path.append(os.getcwd() + '/../../Client_modules/')\n",
    "\n",
    "import mResSweep\n",
    "from socProxy import makeProxy\n",
    "import h5py\n",
    "from PythonDrivers.control_atten import setatten\n",
    "%matplotlib inline\n",
    "import matplotlib.pyplot as plt\n",
    "\n",
    "# Python 3.7\n",
    "# os.environ['PATH'] = os.getcwd() + '\\\\PythonDrivers' + os.pathsep + os.environ['PATH']\n",
    "# Python 3.8 and newer\n",
    "os.add_dll_directory(os.getcwd() + '/../../Client_modules/PythonDrivers')"
   ]
  },
  {
   "cell_type": "code",
   "execution_count": 2,
   "id": "bbf0d120",
   "metadata": {},
   "outputs": [
    {
     "name": "stdout",
     "output_type": "stream",
     "text": [
      "Pyro.NameServer PYRO:Pyro.NameServer@192.168.1.108:8888\n",
      "myqick PYRO:obj_aa2025c83beb4450998b09a13eeae25d@192.168.1.108:45473\n",
      "\n",
      "QICK configuration:\n",
      "\n",
      "\tBoard: ZCU216\n",
      "\n",
      "\tGlobal clocks (MHz): tProcessor 430.080, RF reference 245.760\n",
      "\n",
      "\t7 signal generator channels:\n",
      "\t0:\taxis_signal_gen_v4 - tProc output 1, switch ch 0, maxlen 65536\n",
      "\t\tDAC tile 2, ch 0, 32-bit DDS, fabric=430.080 MHz, fs=6881.280 MHz\n",
      "\t1:\taxis_signal_gen_v4 - tProc output 2, switch ch 1, maxlen 65536\n",
      "\t\tDAC tile 2, ch 1, 32-bit DDS, fabric=430.080 MHz, fs=6881.280 MHz\n",
      "\t2:\taxis_signal_gen_v4 - tProc output 3, switch ch 2, maxlen 65536\n",
      "\t\tDAC tile 2, ch 2, 32-bit DDS, fabric=430.080 MHz, fs=6881.280 MHz\n",
      "\t3:\taxis_signal_gen_v4 - tProc output 4, switch ch 3, maxlen 65536\n",
      "\t\tDAC tile 2, ch 3, 32-bit DDS, fabric=430.080 MHz, fs=6881.280 MHz\n",
      "\t4:\taxis_signal_gen_v4 - tProc output 5, switch ch 4, maxlen 65536\n",
      "\t\tDAC tile 3, ch 0, 32-bit DDS, fabric=430.080 MHz, fs=6881.280 MHz\n",
      "\t5:\taxis_signal_gen_v4 - tProc output 6, switch ch 5, maxlen 65536\n",
      "\t\tDAC tile 3, ch 1, 32-bit DDS, fabric=430.080 MHz, fs=6881.280 MHz\n",
      "\t6:\taxis_signal_gen_v4 - tProc output 7, switch ch 6, maxlen 65536\n",
      "\t\tDAC tile 3, ch 2, 32-bit DDS, fabric=430.080 MHz, fs=6881.280 MHz\n",
      "\n",
      "\t2 readout channels:\n",
      "\t0:\tADC tile 2, ch 0, 32-bit DDS, fabric=307.200 MHz, fs=2457.600 MHz\n",
      "\t\tmaxlen 16384 (avg) 1024 (decimated), trigger bit 14, tProc input 0\n",
      "\t1:\tADC tile 2, ch 2, 32-bit DDS, fabric=307.200 MHz, fs=2457.600 MHz\n",
      "\t\tmaxlen 16384 (avg) 1024 (decimated), trigger bit 15, tProc input 1\n",
      "\n",
      "\t7 DACs:\n",
      "\t\tDAC tile 2, ch 0 is 0_230, on JHC3\n",
      "\t\tDAC tile 2, ch 1 is 1_230, on JHC4\n",
      "\t\tDAC tile 2, ch 2 is 2_230, on JHC3\n",
      "\t\tDAC tile 2, ch 3 is 3_230, on JHC4\n",
      "\t\tDAC tile 3, ch 0 is 0_231, on JHC3\n",
      "\t\tDAC tile 3, ch 1 is 1_231, on JHC4\n",
      "\t\tDAC tile 3, ch 2 is 2_231, on JHC3\n",
      "\n",
      "\t2 ADCs:\n",
      "\t\tADC tile 2, ch 0 is 0_226, on JHC7\n",
      "\t\tADC tile 2, ch 2 is 2_226, on JHC7\n",
      "\n",
      "\t4 digital output pins (tProc output 0):\n",
      "\t0:\tPMOD0_0_LS\n",
      "\t1:\tPMOD0_1_LS\n",
      "\t2:\tPMOD0_2_LS\n",
      "\t3:\tPMOD0_3_LS\n",
      "\n",
      "\ttProc: 8192 words program memory, 4096 words data memory\n",
      "\t\texternal start pin: None\n"
     ]
    }
   ],
   "source": [
    "# create proxy to ZCU216 board\n",
    "soc, soccfg = makeProxy('192.168.1.108')\n",
    "print(soccfg)"
   ]
  },
  {
   "cell_type": "markdown",
   "id": "01fa5c75",
   "metadata": {},
   "source": [
    "# define the program"
   ]
  },
  {
   "cell_type": "code",
   "execution_count": 29,
   "id": "bd5c3a3b",
   "metadata": {},
   "outputs": [],
   "source": [
    "class LoopbackProgram(AveragerProgram):\n",
    "    def initialize(self):\n",
    "        cfg=self.cfg\n",
    "        print(self.cfg)\n",
    "\n",
    "        # set the nyquist zone\n",
    "        for i in cfg['res_ch']:\n",
    "            self.declare_gen(ch=i, nqz=1)\n",
    "        \n",
    "        # configure the readout lengths and downconversion frequencies (ensuring it is an available DAC frequency)\n",
    "        for i, ch in enumerate(cfg[\"ro_chs\"]):\n",
    "            self.declare_readout(ch=ch, length=self.cfg[\"readout_length\"],\n",
    "                                 freq=self.cfg[\"pulse_freqs\"][i], \n",
    "                                 gen_ch=cfg[\"res_ch\"][i])\n",
    "\n",
    "            # convert frequency to DAC frequency (ensuring it is an available ADC frequency)\n",
    "            freq = self.freq2reg(cfg[\"pulse_freqs\"][i],gen_ch=cfg[\"res_ch\"][i], \n",
    "                                 ro_ch=ch)\n",
    "            phase = self.deg2reg(cfg[\"res_phases\"][i], \n",
    "                                 gen_ch=cfg[\"res_ch\"][i])\n",
    "            gain = cfg[\"pulse_gains\"][i]\n",
    "#             self.default_pulse_registers(ch=cfg['res_ch'][i], freq=freq, phase=phase, \n",
    "#                                          gain=gain, mode='periodic', stdysel='last')\n",
    "            self.default_pulse_registers(ch=cfg['res_ch'][i], freq=freq, phase=phase, \n",
    "                                         gain=gain)\n",
    "\n",
    "            style=self.cfg[\"pulse_style\"]\n",
    "\n",
    "            if style in [\"flat_top\",\"arb\"]:\n",
    "                sigma = cfg[\"sigma\"]\n",
    "                self.add_gauss(ch=cfg[\"res_ch\"][i], name=\"measure\", sigma=sigma, length=sigma*5)\n",
    "\n",
    "            if style == \"const\":\n",
    "                self.set_pulse_registers(ch=cfg[\"res_ch\"][i], style=style, \n",
    "                                         length=cfg[\"length\"])\n",
    "            elif style == \"flat_top\":\n",
    "                # The first half of the waveform ramps up the pulse, the second half ramps down the pulse\n",
    "                self.set_pulse_registers(ch=cfg[\"res_ch\"][i], style=style, waveform=\"measure\", length=cfg[\"length\"])\n",
    "            elif style == \"arb\":\n",
    "                self.set_pulse_registers(ch=cfg[\"res_ch\"][i], style=style, waveform=\"measure\")\n",
    "        \n",
    "        self.synci(200)  # give processor some time to configure pulses\n",
    "        for i, res_ch in enumerate(self.cfg['res_ch']):\n",
    "            self.pulse(ch=self.cfg[\"res_ch\"][i])\n",
    "            self.sync_all()\n",
    "        \n",
    "    \n",
    "    def body(self):\n",
    "        # fire the pulse\n",
    "        # trigger all declared ADCs\n",
    "        # pulse PMOD0_0 for a scope trigger\n",
    "        # pause the tProc until readout is done\n",
    "        # increment the time counter to give some time before the next measurement\n",
    "        # (the syncdelay also lets the tProc get back ahead of the clock)\n",
    "#         for i, res_ch in enumerate(self.cfg['res_ch']):\n",
    "#             self.measure(pulse_ch=res_ch, \n",
    "#                      adcs=[self.cfg['ro_chs'][i]],\n",
    "#                      pins=[0], \n",
    "#                      adc_trig_offset=self.cfg[\"adc_trig_offset\"],\n",
    "#                      wait=True,\n",
    "#                      syncdelay=self.us2cycles(self.cfg[\"relax_delay\"]))\n",
    "\n",
    "        for i, res_ch in enumerate(self.cfg['res_ch']):\n",
    "            self.trigger(adcs=[self.cfg['ro_chs'][i]], pins=[0],\n",
    "                            adc_trig_offset=self.cfg['adc_trig_offset'])  # trigger the adc acquisition\n",
    "        \n",
    "        # equivalent to the following:\n",
    "#         self.trigger(adcs=self.ro_chs,\n",
    "#                      pins=[0], \n",
    "#                      adc_trig_offset=self.cfg[\"adc_trig_offset\"])\n",
    "#         self.pulse(ch=self.cfg[\"res_ch\"])\n",
    "#         self.wait_all()\n",
    "#         self.sync_all(self.us2cycles(self.cfg[\"relax_delay\"]))"
   ]
  },
  {
   "cell_type": "markdown",
   "id": "4e3fac58",
   "metadata": {},
   "source": [
    "# run a single point, decimated"
   ]
  },
  {
   "cell_type": "code",
   "execution_count": 32,
   "id": "017579fd",
   "metadata": {},
   "outputs": [
    {
     "name": "stdout",
     "output_type": "stream",
     "text": [
      "{'res_ch': [0, 2], 'ro_chs': [0, 1], 'reps': 1, 'relax_delay': 1.0, 'res_phases': [0, 0], 'pulse_style': 'const', 'length': 30, 'readout_length': 100, 'pulse_gains': [35000, 30000], 'pulse_freqs': [1958, 2261], 'adc_trig_offset': 100, 'soft_avgs': 100}\n"
     ]
    },
    {
     "data": {
      "application/vnd.jupyter.widget-view+json": {
       "model_id": "172b8e8749ae4d0580d460ad59ed9dcf",
       "version_major": 2,
       "version_minor": 0
      },
      "text/plain": [
       "  0%|          | 0/100 [00:00<?, ?it/s]"
      ]
     },
     "metadata": {},
     "output_type": "display_data"
    }
   ],
   "source": [
    "config={\"res_ch\":[0,2], # --Fixed\n",
    "        \"ro_chs\":[0,1], # --Fixed\n",
    "        \"reps\":1, # --Fixed\n",
    "        \"relax_delay\":1.0, # --us\n",
    "        \"res_phases\":[0,0], # --degrees\n",
    "        \"pulse_style\": \"const\", # --Fixed\n",
    "        \n",
    "        \"length\":30, # [Clock ticks]\n",
    "        # Try varying length from 10-100 clock ticks\n",
    "        \n",
    "        \"readout_length\":100, # [Clock ticks]\n",
    "        # Try varying readout_length from 50-1000 clock ticks\n",
    "\n",
    "        \"pulse_gains\":[35000, 30000], # [DAC units]\n",
    "        # Try varying pulse_gain from 500 to 30000 DAC units\n",
    "        \n",
    "        \"pulse_freqs\": [1958, 2261], # [MHz]\n",
    "        # In this program the signal is up and downconverted digitally so you won't see any frequency\n",
    "        # components in the I/Q traces below. But since the signal gain depends on frequency, \n",
    "        # if you lower pulse_freq you will see an increased gain.\n",
    "\n",
    "        \"adc_trig_offset\": 100, # [Clock ticks]\n",
    "        # Try varying adc_trig_offset from 100 to 220 clock ticks\n",
    "\n",
    "        \"soft_avgs\":100\n",
    "        # Try varying soft_avgs from 1 to 200 averages\n",
    "\n",
    "       }\n",
    "\n",
    "###################\n",
    "# Try it yourself !\n",
    "###################\n",
    "\n",
    "prog =LoopbackProgram(soccfg, config)\n",
    "iq_list = prog.acquire_decimated(soc, load_pulses=True, progress=True, debug=False)"
   ]
  },
  {
   "cell_type": "code",
   "execution_count": 33,
   "id": "27a03984",
   "metadata": {},
   "outputs": [
    {
     "data": {
      "image/png": "[encoded data removed]",
      "text/plain": [
       "<Figure size 432x288 with 1 Axes>"
      ]
     },
     "metadata": {
      "needs_background": "light"
     },
     "output_type": "display_data"
    },
    {
     "data": {
      "image/png": "[encoded data removed]",
      "text/plain": [
       "<Figure size 432x288 with 1 Axes>"
      ]
     },
     "metadata": {
      "needs_background": "light"
     },
     "output_type": "display_data"
    }
   ],
   "source": [
    "# Plot results.\n",
    "for ii, iq in enumerate(iq_list):\n",
    "    plt.figure(ii)\n",
    "    plt.plot(iq[0], label=\"I value, ADC %d\"%(config['ro_chs'][ii]))\n",
    "    plt.plot(iq[1], label=\"Q value, ADC %d\"%(config['ro_chs'][ii]))\n",
    "    plt.plot(np.abs(iq[0]+1j*iq[1]), label=\"mag, ADC %d\"%(config['ro_chs'][ii]))\n",
    "    plt.ylabel(\"a.u.\")\n",
    "    plt.xlabel(\"Clock ticks\")\n",
    "    plt.title(\"Averages = \" + str(config[\"soft_avgs\"]))\n",
    "    plt.legend()"
   ]
  },
  {
   "cell_type": "markdown",
   "id": "8b413957",
   "metadata": {},
   "source": [
    "# run single point"
   ]
  },
  {
   "cell_type": "code",
   "execution_count": null,
   "id": "7ae76f7c",
   "metadata": {
    "scrolled": false
   },
   "outputs": [],
   "source": [
    "config={\"res_ch\":[0,2], # --Fixed\n",
    "        \"ro_chs\":[0,1], # --Fixed\n",
    "        \"reps\":20, # --Fixed\n",
    "        \"relax_delay\":1.0, # --us\n",
    "        \"res_phases\":[0,0], # --degrees\n",
    "        \"pulse_style\": \"const\", # --Fixed\n",
    "        \n",
    "        \"length\":2000, # [Clock ticks]\n",
    "        # Try varying length from 10-100 clock ticks\n",
    "        \n",
    "        \"readout_length\":1000, # [Clock ticks]\n",
    "        # Try varying readout_length from 50-1000 clock ticks\n",
    "\n",
    "        \"pulse_gains\":[3000, 3000], # [DAC units]\n",
    "        # Try varying pulse_gain from 500 to 30000 DAC units\n",
    "\n",
    "        \"pulse_freqs\": [1958.6099999999997, 2261.8864999999996], # [MHz]\n",
    "#         \"pulse_freqs\": [2000], # [MHz]\n",
    "        # In this program the signal is up and downconverted digitally so you won't see any frequency\n",
    "        # components in the I/Q traces below. But since the signal gain depends on frequency, \n",
    "        # if you lower pulse_freq you will see an increased gain.\n",
    "\n",
    "        \"adc_trig_offset\": 200, # [Clock ticks]\n",
    "        # Try varying adc_trig_offset from 100 to 220 clock ticks\n",
    "\n",
    "       }\n",
    "###################\n",
    "# Try it yourself !\n",
    "###################\n",
    "\n",
    "prog =LoopbackProgram(soccfg, config)\n",
    "iq_list = prog.acquire(soc, load_pulses=True, progress=True, debug=False)\n",
    "\n",
    "for ii, iq in enumerate(iq_list):\n",
    "    print(iq[0][0])\n",
    "    print('Freq {0}, I = {1:0.2f}'.format(ii, iq[0][0]))\n",
    "    print('Freq {0}, Q = {1:0.2f}'.format(ii, iq[1][0]))\n",
    "    print('Freq {0}, phase = {1:0.2f}'.format(ii, np.arctan2(iq[1][0],iq[0][0])))\n",
    "    print('')\n"
   ]
  },
  {
   "cell_type": "markdown",
   "id": "faf8eaaa",
   "metadata": {},
   "source": [
    "# run two points"
   ]
  },
  {
   "cell_type": "code",
   "execution_count": null,
   "id": "50cddf35",
   "metadata": {},
   "outputs": [],
   "source": [
    "config={\"res_ch\":[2], # --Fixed\n",
    "        \"ro_chs\":[1], # --Fixed\n",
    "        \"reps\":5, # --Fixed\n",
    "        \"relax_delay\":1.0, # --us\n",
    "        \"res_phases\":[0,0], # --degrees\n",
    "        \"pulse_style\": \"const\", # --Fixed\n",
    "        \n",
    "        \"length\":2000, # [Clock ticks]\n",
    "        # Try varying length from 10-100 clock ticks\n",
    "        \n",
    "        \"readout_length\":1000, # [Clock ticks]\n",
    "        # Try varying readout_length from 50-1000 clock ticks\n",
    "\n",
    "        \"pulse_gains\":[3000, 3000], # [DAC units]\n",
    "        # Try varying pulse_gain from 500 to 30000 DAC units\n",
    "\n",
    "        \"pulse_freqs\": [2000, 2100], # [MHz]\n",
    "        # In this program the signal is up and downconverted digitally so you won't see any frequency\n",
    "        # components in the I/Q traces below. But since the signal gain depends on frequency, \n",
    "        # if you lower pulse_freq you will see an increased gain.\n",
    "\n",
    "        \"adc_trig_offset\": 200, # [Clock ticks]\n",
    "        # Try varying adc_trig_offset from 100 to 220 clock ticks\n",
    "\n",
    "       }\n",
    "\n",
    "###################\n",
    "# Try it yourself !\n",
    "###################\n",
    "\n",
    "prog =LoopbackProgram(soccfg, config)\n",
    "iq_list1 = prog.acquire(soc, load_pulses=True, progress=True, debug=False)\n",
    "print(np.shape(iq_list1))\n",
    "\n",
    "config['pulse_freqs'] = [1999, 2099]\n",
    "\n",
    "prog =LoopbackProgram(soccfg, config)\n",
    "iq_list2 = prog.acquire(soc, load_pulses=True, progress=True, debug=False)\n",
    "\n",
    "config['pulse_freqs'] = [2000, 2100]\n",
    "\n",
    "prog =LoopbackProgram(soccfg, config)\n",
    "iq_list3 = prog.acquire(soc, load_pulses=True, progress=True, debug=False)\n",
    "\n",
    "for ii, iq in enumerate(iq_list1):\n",
    "#     print('Freq {0}, I = {1:0.2f}'.format(ii, iq[0][0]))\n",
    "#     print('Freq {0}, Q = {1:0.2f}'.format(ii, iq[1][0]))\n",
    "    print('Freq {0}, phase = {1:0.2f}'.format(ii, np.arctan2(iq[1][0],iq[0][0])))\n",
    "    print('Freq {0}, mag = {1:0.2f}'.format(ii, np.abs(iq[1][0]+1j*iq[0][0])))\n",
    "    print('')\n",
    "    \n",
    "for ii, iq in enumerate(iq_list2):\n",
    "#     print('Freq {0}, I = {1:0.2f}'.format(ii, iq[0][0]))\n",
    "#     print('Freq {0}, Q = {1:0.2f}'.format(ii, iq[1][0]))\n",
    "    print('Freq {0}, phase = {1:0.2f}'.format(ii, np.arctan2(iq[1][0],iq[0][0])))\n",
    "    print('Freq {0}, mag = {1:0.2f}'.format(ii, np.abs(iq[1][0]+1j*iq[0][0])))\n",
    "    print('')\n",
    "    \n",
    "for ii, iq in enumerate(iq_list3):\n",
    "#     print('Freq {0}, I = {1:0.2f}'.format(ii, iq[0][0]))\n",
    "#     print('Freq {0}, Q = {1:0.2f}'.format(ii, iq[1][0]))\n",
    "    print('Freq {0}, phase = {1:0.2f}'.format(ii, np.arctan2(iq[1][0],iq[0][0])))\n",
    "    print('Freq {0}, mag = {1:0.2f}'.format(ii, np.abs(iq[1][0]+1j*iq[0][0])))\n",
    "    print('')\n"
   ]
  },
  {
   "cell_type": "code",
   "execution_count": null,
   "id": "81db11bd",
   "metadata": {},
   "outputs": [],
   "source": []
  },
  {
   "cell_type": "code",
   "execution_count": null,
   "id": "684971ef",
   "metadata": {},
   "outputs": [],
   "source": []
  }
 ],
 "metadata": {
  "kernelspec": {
   "display_name": "Python 3 (ipykernel)",
   "language": "python",
   "name": "python3"
  },
  "language_info": {
   "codemirror_mode": {
    "name": "ipython",
    "version": 3
   },
   "file_extension": ".py",
   "mimetype": "text/x-python",
   "name": "python",
   "nbconvert_exporter": "python",
   "pygments_lexer": "ipython3",
   "version": "3.10.4"
  }
 },
 "nbformat": 4,
 "nbformat_minor": 5
}
