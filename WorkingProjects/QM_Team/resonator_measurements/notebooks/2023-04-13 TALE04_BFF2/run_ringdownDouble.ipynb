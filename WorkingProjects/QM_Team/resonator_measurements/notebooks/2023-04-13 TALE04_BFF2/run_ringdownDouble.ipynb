{
 "cells": [
  {
   "cell_type": "markdown",
   "id": "dfe6800e",
   "metadata": {},
   "source": [
    "# Imports and initializations"
   ]
  },
  {
   "cell_type": "code",
   "execution_count": 1,
   "id": "f15e3b27",
   "metadata": {},
   "outputs": [
    {
     "name": "stdout",
     "output_type": "stream",
     "text": [
      "Could not import QickSoc: No module named 'pynq'\n"
     ]
    },
    {
     "data": {
      "text/plain": [
       "<AddedDllDirectory('C:\\\\Users\\\\kevindc\\\\Documents\\\\GitHub\\\\ZCU216\\\\res_dev\\\\notebooks\\\\2023-04-13 TALE04_BFF2/../../Client_modules/PythonDrivers')>"
      ]
     },
     "execution_count": 1,
     "metadata": {},
     "output_type": "execute_result"
    }
   ],
   "source": [
    "# add our custom modules to the python import path\n",
    "import sys\n",
    "import os\n",
    "sys.path.append(os.getcwd() + '/../../Client_modules/')\n",
    "\n",
    "import mResSweepDouble\n",
    "import mResRingDownDouble\n",
    "from socProxy import makeProxy\n",
    "import h5py\n",
    "from PythonDrivers.control_atten import setatten\n",
    "# import PythonDrivers.YOKOGS200 as YOKOGS200\n",
    "import matplotlib.pyplot as plt\n",
    "savePath = r'Z:\\t1Team\\Data\\TALE04_BFF2_2023-04-13\\RFSOC'\n",
    "import numpy as np\n",
    "\n",
    "# Python 3.7\n",
    "# os.environ['PATH'] = os.getcwd() + '\\\\PythonDrivers' + os.pathsep + os.environ['PATH']\n",
    "# Python 3.8 and newer\n",
    "os.add_dll_directory(os.getcwd() + '/../../Client_modules/PythonDrivers')"
   ]
  },
  {
   "cell_type": "code",
   "execution_count": 2,
   "id": "a167a9f0",
   "metadata": {},
   "outputs": [
    {
     "name": "stdout",
     "output_type": "stream",
     "text": [
      "Pyro.NameServer PYRO:Pyro.NameServer@192.168.1.105:8888\n",
      "myqick PYRO:obj_d89dfb308b024eb7abe51161f0dd6243@192.168.1.105:34563\n",
      "\n",
      "QICK configuration:\n",
      "\n",
      "\tBoard: ZCU216\n",
      "\n",
      "\tGlobal clocks (MHz): tProcessor 430.080, RF reference 245.760\n",
      "\n",
      "\t7 signal generator channels:\n",
      "\t0:\taxis_signal_gen_v4 - tProc output 1, envelope memory 65536 samples\n",
      "\t\tDAC tile 2, ch 0, 32-bit DDS, fabric=430.080 MHz, fs=6881.280 MHz\n",
      "\t1:\taxis_signal_gen_v4 - tProc output 2, envelope memory 65536 samples\n",
      "\t\tDAC tile 2, ch 1, 32-bit DDS, fabric=430.080 MHz, fs=6881.280 MHz\n",
      "\t2:\taxis_signal_gen_v4 - tProc output 3, envelope memory 65536 samples\n",
      "\t\tDAC tile 2, ch 2, 32-bit DDS, fabric=430.080 MHz, fs=6881.280 MHz\n",
      "\t3:\taxis_signal_gen_v4 - tProc output 4, envelope memory 65536 samples\n",
      "\t\tDAC tile 2, ch 3, 32-bit DDS, fabric=430.080 MHz, fs=6881.280 MHz\n",
      "\t4:\taxis_signal_gen_v4 - tProc output 5, envelope memory 65536 samples\n",
      "\t\tDAC tile 3, ch 0, 32-bit DDS, fabric=430.080 MHz, fs=6881.280 MHz\n",
      "\t5:\taxis_signal_gen_v4 - tProc output 6, envelope memory 65536 samples\n",
      "\t\tDAC tile 3, ch 1, 32-bit DDS, fabric=430.080 MHz, fs=6881.280 MHz\n",
      "\t6:\taxis_signal_gen_v4 - tProc output 7, envelope memory 65536 samples\n",
      "\t\tDAC tile 3, ch 2, 32-bit DDS, fabric=430.080 MHz, fs=6881.280 MHz\n",
      "\n",
      "\t2 readout channels:\n",
      "\t0:\taxis_readout_v2 - controlled by PYNQ\n",
      "\t\tADC tile 2, ch 0, 32-bit DDS, fabric=307.200 MHz, fs=2457.600 MHz\n",
      "\t\tmaxlen 16384 (avg) 1024 (decimated), trigger bit 14, tProc input 0\n",
      "\t1:\taxis_readout_v2 - controlled by PYNQ\n",
      "\t\tADC tile 2, ch 2, 32-bit DDS, fabric=307.200 MHz, fs=2457.600 MHz\n",
      "\t\tmaxlen 16384 (avg) 1024 (decimated), trigger bit 15, tProc input 1\n",
      "\n",
      "\t7 DACs:\n",
      "\t\tDAC tile 2, ch 0 is 0_230, on JHC3\n",
      "\t\tDAC tile 2, ch 1 is 1_230, on JHC4\n",
      "\t\tDAC tile 2, ch 2 is 2_230, on JHC3\n",
      "\t\tDAC tile 2, ch 3 is 3_230, on JHC4\n",
      "\t\tDAC tile 3, ch 0 is 0_231, on JHC3\n",
      "\t\tDAC tile 3, ch 1 is 1_231, on JHC4\n",
      "\t\tDAC tile 3, ch 2 is 2_231, on JHC3\n",
      "\n",
      "\t2 ADCs:\n",
      "\t\tADC tile 2, ch 0 is 0_226, on JHC7\n",
      "\t\tADC tile 2, ch 2 is 2_226, on JHC7\n",
      "\n",
      "\t4 digital output pins (tProc output 0):\n",
      "\t0:\tPMOD0_0_LS\n",
      "\t1:\tPMOD0_1_LS\n",
      "\t2:\tPMOD0_2_LS\n",
      "\t3:\tPMOD0_3_LS\n",
      "\n",
      "\ttProc: program memory 8192 words, data memory 4096 words\n",
      "\t\texternal start pin: None\n"
     ]
    }
   ],
   "source": [
    "# create proxy to ZCU216 board\n",
    "soc, soccfg = makeProxy('192.168.1.105')\n",
    "print(soccfg)"
   ]
  },
  {
   "cell_type": "markdown",
   "id": "6047c54d",
   "metadata": {},
   "source": [
    "# Define sweep parameters for initial freq sweep"
   ]
  },
  {
   "cell_type": "code",
   "execution_count": 18,
   "id": "7d64371c",
   "metadata": {},
   "outputs": [],
   "source": [
    "inputDict = {}\n",
    "inputDict['LO_f'] = 0  # local oscillator frequency\n",
    "\n",
    "# define frequencies\n",
    "inputDict['span_f'] = [0.05,0.05]\n",
    "\n",
    "# center freqs\n",
    "# inputDict['res_f'] = [4.47503e3,\n",
    "#                       4.71946e3]\n",
    "inputDict['res_f'] = [4.913388e3,\n",
    "                      5.054391e3]\n",
    "\n",
    "# define numbers of points\n",
    "inputDict['n_expts'] = 301  # number of points along the frequency axis\n",
    "inputDict['n_rounds'] = 1  # number of times to sweep along the frequency axis\n",
    "inputDict['n_reps'] = 50  # number of repetitions to take at each frequency point\n",
    "\n",
    "# timing. Units are clock cycles, but converted from us\n",
    "inputDict['ring_up_time'] = 500  # time waiting for the resonator to ring up at the start of each sweep\n",
    "inputDict['ring_between_time'] = 50  # time waiting for the resonator to ring up at the start of each sweep\n",
    "inputDict['readout_length'] = 100  # time to average over\n",
    "inputDict['adc_trig_offset'] = 0.1  # time after the DAC starts the final steady pulse before the ADC starts it's read\n",
    "\n",
    "# power\n",
    "inputDict['basePower'] = -30 # dBm\n",
    "inputDict['gain'] = [18000, 22000]\n"
   ]
  },
  {
   "cell_type": "code",
   "execution_count": null,
   "id": "03b15c46",
   "metadata": {
    "scrolled": true
   },
   "outputs": [],
   "source": [
    "# Acquire decimated\n",
    "# inputDict['res_f'] = [4.50e3,\n",
    "#                       4.80e3]\n",
    "\n",
    "# inputDict['power'] = inputDict['basePower']\n",
    "# inputDict['adc_trig_offset'] = 1\n",
    "# Instance = mResSweepDouble.ResSweep(path=savePath, prefix='data', inputDict=inputDict, soc=soc, soccfg=soccfg)\n",
    "# data = mResSweepDouble.ResSweep.acquire_decimated(Instance, readout_length=1000, )\n",
    "# mResSweepDouble.ResSweep.display_decimated(Instance, data)"
   ]
  },
  {
   "cell_type": "markdown",
   "id": "c8d60d91",
   "metadata": {},
   "source": [
    "# Acquire data"
   ]
  },
  {
   "cell_type": "code",
   "execution_count": 19,
   "id": "fcd15ef0",
   "metadata": {
    "scrolled": false
   },
   "outputs": [
    {
     "name": "stdout",
     "output_type": "stream",
     "text": [
      "Frequencies out are: [4913.388, 5054.391] MHz\n"
     ]
    },
    {
     "name": "stderr",
     "output_type": "stream",
     "text": [
      "C:\\Users\\kevindc\\Documents\\GitHub\\ZCU216\\res_dev\\notebooks\\2023-04-13 TALE04_BFF2/../../Client_modules\\mResSweepDouble.py:264: UserWarning: Temperature log is 21166.9 minutes out of date. Make sure you are outputting the log file from the temperature PC\n",
      "  warnings.warn(\n"
     ]
    },
    {
     "data": {
      "application/vnd.jupyter.widget-view+json": {
       "model_id": "7ce77e21137847c8880ea2b7bbe0be1b",
       "version_major": 2,
       "version_minor": 0
      },
      "text/plain": [
       "  0%|          | 0/1 [00:00<?, ?it/s]"
      ]
     },
     "metadata": {},
     "output_type": "display_data"
    },
    {
     "name": "stdout",
     "output_type": "stream",
     "text": [
      "Final time = 5.298 s\n"
     ]
    },
    {
     "name": "stderr",
     "output_type": "stream",
     "text": [
      "C:\\Users\\kevindc\\Documents\\GitHub\\ZCU216\\res_dev\\notebooks\\2023-04-13 TALE04_BFF2/../../Client_modules\\mResSweepDouble.py:264: UserWarning: Temperature log is 21167.0 minutes out of date. Make sure you are outputting the log file from the temperature PC\n",
      "  warnings.warn(\n"
     ]
    },
    {
     "data": {
      "image/png": "[encoded data removed]",
      "text/plain": [
       "<Figure size 750x337.5 with 2 Axes>"
      ]
     },
     "metadata": {},
     "output_type": "display_data"
    },
    {
     "name": "stdout",
     "output_type": "stream",
     "text": [
      "Resonator 0 freq: 4913.38451 MHz\n",
      "Resonator 1 freq: 5054.39642 MHz\n"
     ]
    }
   ],
   "source": [
    "# Acquire\n",
    "inputDict['power'] = inputDict['basePower']\n",
    "Instance = mResSweepDouble.ResSweep(path=savePath, prefix='data', inputDict=inputDict, soc=soc, soccfg=soccfg)\n",
    "data = mResSweepDouble.ResSweep.acquire(Instance)\n",
    "pOpt, pCov = mResSweepDouble.ResSweep.display(Instance, data)\n",
    "\n",
    "res_freq = [\n",
    "    pOpt[0][0]/1e6, pOpt[1][0]/1e6\n",
    "]\n",
    "\n",
    "print('Resonator 0 freq: {0:0.5f} MHz'.format(res_freq[0]))\n",
    "print('Resonator 1 freq: {0:0.5f} MHz'.format(res_freq[1]))"
   ]
  },
  {
   "cell_type": "markdown",
   "id": "55ded96a",
   "metadata": {},
   "source": [
    "# Time domain parameters"
   ]
  },
  {
   "cell_type": "code",
   "execution_count": 22,
   "id": "9537beaf",
   "metadata": {},
   "outputs": [
    {
     "name": "stdout",
     "output_type": "stream",
     "text": [
      "Frequencies out are: [4913.384505944606, 5054.396415018094] MHz\n"
     ]
    }
   ],
   "source": [
    "inputDict['LO_f'] = 0  # local oscillator frequency\n",
    "inputDict['res_f'] = res_freq  # center frequencies of the resonators\n",
    "# inputDict['names'] = ['4p48', '4p72']\n",
    "inputDict['names'] = ['4p91', '5p05']\n",
    "\n",
    "# define numbers of points\n",
    "inputDict['n_rounds'] = 1  # number of times to sweep along the frequency axis\n",
    "inputDict['n_reps'] = 2000  # number of repetitions to take at each frequency point\n",
    "\n",
    "ringTime = 500\n",
    "inputDict['ring_up_time'] = ringTime  # time waiting for the resonator to ring up at the start of each sweep\n",
    "inputDict['readout_length'] = 0.1  # time to average over\n",
    "inputDict['relax_delay'] = 10*ringTime\n",
    "inputDict['init_delay'] = ringTime/5\n",
    "inputDict['t_delayArray'] = np.linspace(0, 2*ringTime+inputDict['init_delay'], 400)\n",
    "\n",
    "inputDict['basePower'] = -30\n",
    "inputDict['gain'] = [18000, 22000]\n",
    "\n",
    "Instance = mResRingDownDouble.ResRingDown(prefix='Ringdown_t'+str(ringTime), \n",
    "                                          path=savePath, \n",
    "                                          inputDict=inputDict, \n",
    "                                          soc=soc, soccfg=soccfg)\n"
   ]
  },
  {
   "cell_type": "code",
   "execution_count": null,
   "id": "99416ff6",
   "metadata": {
    "scrolled": false
   },
   "outputs": [],
   "source": [
    "# decimated\n",
    "# inputDict['init_delay'] = 0\n",
    "# Instance = mResRingDownDouble.ResRingDown(prefix='Ringdown_t'+str(ringTime), \n",
    "#                                           path=savePath, \n",
    "#                                           inputDict=inputDict, \n",
    "#                                           soc=soc, soccfg=soccfg)\n",
    "# data = Instance.acquire_decimated(readout_length=1000, adc_trig_offset=0)\n",
    "# Instance.display_decimated(data)\n"
   ]
  },
  {
   "cell_type": "code",
   "execution_count": null,
   "id": "96f19937",
   "metadata": {
    "scrolled": false
   },
   "outputs": [
    {
     "data": {
      "application/vnd.jupyter.widget-view+json": {
       "model_id": "7badd998d23448b7b03806b6ebec94c2",
       "version_major": 2,
       "version_minor": 0
      },
      "text/plain": [
       "  0%|          | 0/400 [00:00<?, ?it/s]"
      ]
     },
     "metadata": {},
     "output_type": "display_data"
    }
   ],
   "source": [
    "data = Instance.acquire()\n",
    "Instance.display(data)\n",
    "Instance.save_data()"
   ]
  },
  {
   "cell_type": "code",
   "execution_count": null,
   "id": "3f503232",
   "metadata": {},
   "outputs": [],
   "source": []
  }
 ],
 "metadata": {
  "kernelspec": {
   "display_name": "Python 3 (ipykernel)",
   "language": "python",
   "name": "python3"
  },
  "language_info": {
   "codemirror_mode": {
    "name": "ipython",
    "version": 3
   },
   "file_extension": ".py",
   "mimetype": "text/x-python",
   "name": "python",
   "nbconvert_exporter": "python",
   "pygments_lexer": "ipython3",
   "version": "3.9.16"
  },
  "toc": {
   "base_numbering": 1,
   "nav_menu": {},
   "number_sections": true,
   "sideBar": true,
   "skip_h1_title": false,
   "title_cell": "Table of Contents",
   "title_sidebar": "Contents",
   "toc_cell": false,
   "toc_position": {
    "height": "calc(100% - 180px)",
    "left": "10px",
    "top": "150px",
    "width": "451.7646789550781px"
   },
   "toc_section_display": true,
   "toc_window_display": true
  }
 },
 "nbformat": 4,
 "nbformat_minor": 5
}
