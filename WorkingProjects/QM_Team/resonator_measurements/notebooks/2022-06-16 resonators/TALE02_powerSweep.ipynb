{
 "cells": [
  {
   "cell_type": "markdown",
   "id": "b606dc55",
   "metadata": {},
   "source": [
    "# imports and initializations"
   ]
  },
  {
   "cell_type": "code",
   "execution_count": 4,
   "id": "b1b1a5cb",
   "metadata": {},
   "outputs": [
    {
     "data": {
      "text/plain": [
       "<AddedDllDirectory('C:\\\\Users\\\\my\\\\Documents\\\\GitHub\\\\ZCU216_Russell\\\\res_dev\\\\notebooks\\\\2022-06-16 resonators/../../Client_modules/PythonDrivers')>"
      ]
     },
     "execution_count": 4,
     "metadata": {},
     "output_type": "execute_result"
    }
   ],
   "source": [
    "# add our custom modules to the python import path\n",
    "import sys\n",
    "import os\n",
    "sys.path.append(os.getcwd() + '/../../Client_modules/')\n",
    "\n",
    "import mResSweep\n",
    "from socProxy import makeProxy\n",
    "import h5py\n",
    "from PythonDrivers.control_atten import setatten\n",
    "# import PythonDrivers.YOKOGS200 as YOKOGS200\n",
    "%matplotlib qt\n",
    "import matplotlib.pyplot as plt\n",
    "savePath = r'Z:\\t1Team\\Data\\TALE02_06_16_22\\RFSOC\\freqDomain'\n",
    "\n",
    "# Python 3.7\n",
    "# os.environ['PATH'] = os.getcwd() + '\\\\PythonDrivers' + os.pathsep + os.environ['PATH']\n",
    "# Python 3.8 and newer\n",
    "os.add_dll_directory(os.getcwd() + '/../../Client_modules/PythonDrivers')"
   ]
  },
  {
   "cell_type": "code",
   "execution_count": 5,
   "id": "5cb13654",
   "metadata": {},
   "outputs": [
    {
     "name": "stdout",
     "output_type": "stream",
     "text": [
      "Pyro.NameServer PYRO:Pyro.NameServer@192.168.1.120:8888\n",
      "myqick PYRO:obj_032068d89f56432daba14108ce8239b6@192.168.1.120:43613\n",
      "\n",
      "QICK configuration:\n",
      "\n",
      "\tBoard: ZCU216\n",
      "\n",
      "\tGlobal clocks (MHz): tProcessor 349.997, RF reference 245.760\n",
      "\n",
      "\t7 signal generator channels:\n",
      "\t0:\taxis_sg_int4_v1 - tProc output 0, switch ch 0, maxlen 4096\n",
      "\t\tDAC tile 2, ch 0, 16-bit DDS, fabric=430.080 MHz, fs=1720.320 MHz\n",
      "\t1:\taxis_sg_int4_v1 - tProc output 1, switch ch 1, maxlen 4096\n",
      "\t\tDAC tile 2, ch 1, 16-bit DDS, fabric=430.080 MHz, fs=1720.320 MHz\n",
      "\t2:\taxis_sg_int4_v1 - tProc output 2, switch ch 2, maxlen 4096\n",
      "\t\tDAC tile 2, ch 2, 16-bit DDS, fabric=430.080 MHz, fs=1720.320 MHz\n",
      "\t3:\taxis_sg_int4_v1 - tProc output 3, switch ch 3, maxlen 4096\n",
      "\t\tDAC tile 2, ch 3, 16-bit DDS, fabric=430.080 MHz, fs=1720.320 MHz\n",
      "\t4:\taxis_signal_gen_v6 - tProc output 4, switch ch 4, maxlen 65536\n",
      "\t\tDAC tile 3, ch 0, 32-bit DDS, fabric=599.040 MHz, fs=9584.640 MHz\n",
      "\t5:\taxis_signal_gen_v6 - tProc output 5, switch ch 5, maxlen 65536\n",
      "\t\tDAC tile 3, ch 1, 32-bit DDS, fabric=599.040 MHz, fs=9584.640 MHz\n",
      "\t6:\taxis_sg_mux4_v2 - tProc output 6, switch ch -1, maxlen 0\n",
      "\t\tDAC tile 0, ch 0, 32-bit DDS, fabric=430.080 MHz, fs=1720.320 MHz\n",
      "\n",
      "\t4 constant-IQ outputs:\n",
      "\t0:\tDAC tile 1, ch 0, fs=6881.280 MHz\n",
      "\t1:\tDAC tile 1, ch 1, fs=6881.280 MHz\n",
      "\t2:\tDAC tile 1, ch 2, fs=6881.280 MHz\n",
      "\t3:\tDAC tile 1, ch 3, fs=6881.280 MHz\n",
      "\n",
      "\t4 readout channels:\n",
      "\t0:\tADC tile 2, ch 0, 35-bit DDS, fabric=307.200 MHz, fs=2457.600 MHz\n",
      "\t\tmaxlen 1024 (avg) 1024 (decimated), trigger 4, tProc input 0\n",
      "\t1:\tADC tile 2, ch 0, 35-bit DDS, fabric=307.200 MHz, fs=2457.600 MHz\n",
      "\t\tmaxlen 1024 (avg) 1024 (decimated), trigger 5, tProc input 1\n",
      "\t2:\tADC tile 2, ch 0, 35-bit DDS, fabric=307.200 MHz, fs=2457.600 MHz\n",
      "\t\tmaxlen 1024 (avg) 1024 (decimated), trigger 6, tProc input 2\n",
      "\t3:\tADC tile 2, ch 0, 35-bit DDS, fabric=307.200 MHz, fs=2457.600 MHz\n",
      "\t\tmaxlen 1024 (avg) 1024 (decimated), trigger 7, tProc input 3\n",
      "\n",
      "\ttProc: 1024 words program memory, 1024 words data memory\n"
     ]
    }
   ],
   "source": [
    "# create proxy to ZCU216 board\n",
    "soc, soccfg = makeProxy('192.168.1.120')\n",
    "print(soccfg)"
   ]
  },
  {
   "cell_type": "markdown",
   "id": "bcefc98b",
   "metadata": {},
   "source": [
    "# Define sweep parameters"
   ]
  },
  {
   "cell_type": "code",
   "execution_count": 9,
   "id": "277bf998",
   "metadata": {},
   "outputs": [],
   "source": [
    "inputDict = {}\n",
    "inputDict['LO_f'] = 5e3  # local oscillator frequency\n",
    "\n",
    "# for spectrum analyzer shots\n",
    "# inputDict['mixerCenter_f'] = 1700  # center frequency for the mixer\n",
    "# inputDict['span_f'] = 0  # frequency span to sweep over. The same for all resonators\n",
    "# inputDict['res_f'] = [5.9e3, 6.411658e3, 7.05506e3, 7.5e3]  # center frequencies of the resonators\n",
    "\n",
    "#frequencies for large span measurement\n",
    "# inputDict['LO_f'] = 0e3  # local oscillator frequency\n",
    "# inputDict['mixerCenter_f'] = 1.5e3  # center frequency for the mixer\n",
    "# inputDict['span_f'] = 1000  # frequency span to sweep over. The same for all resonators\n",
    "# inputDict['res_f'] = [1.5e3]  # center frequencies of the resonators\n",
    "\n",
    "# define frequencies\n",
    "# inputDict['mixerCenter_f'] = 1700  # center frequency for the mixer\n",
    "# inputDict['span_f'] = .08  # frequency span to sweep over. The same for all resonators\n",
    "# inputDict['res_f'] = [5.9e3, 6.401658e3, 7.04506e3, 7.5e3]  # center frequencies of the resonators\n",
    "\n",
    "# define frequencies\n",
    "inputDict['mixerCenter_f'] = 1700  # center frequency for the mixer\n",
    "inputDict['span_f'] = .04  # frequency span to sweep over. The same for all resonators\n",
    "inputDict['res_f'] = [6.1477131e3, 6.5812862e3]  # center frequencies of the resonators\n",
    "\n",
    "# define numbers of points\n",
    "inputDict['n_expts'] = 601  # number of points along the frequency axis\n",
    "\n",
    "# timing. Units are clock cycles, but converted from us\n",
    "inputDict['ring_up_time'] = 500  # time waiting for the resonator to ring up at the start of each sweep\n",
    "inputDict['ring_between_time'] = 50  # time waiting for the resonator to ring up at the start of each sweep\n",
    "inputDict['adc_trig_offset'] = 0.1 # time after the DAC starts the final steady pulse before the ADC starts it's read\n",
    "\n",
    "# power\n",
    "inputDict['basePower'] = 0\n",
    "inputDict['attenSerial'] = [27712, 27784]\n",
    "inputDict['gain'] = [1, 0.7]\n",
    "\n",
    "# parameters which vary per power point\n",
    "# inputDict['attenList'] = [10, 20, 30, 40, 50, 60, 70, 80, 90, 100]\n",
    "# inputDict['readout_lengthList'] = [1000, 1000, 1000, 1000, 1000, 1000, 1000, 1000, 1000, 1000]  # time to average over\n",
    "# inputDict['n_roundsList'] = [2, 2, 2, 2, 2, 4, 8, 10, 10, 10]  # number of times to sweep along the frequency axis\n",
    "# inputDict['n_repsList'] = [200, 200, 200, 200, 200, 500, 1000, 2000, 2000, 4000] # number of repetitions to take at each frequency point\n",
    "\n",
    "inputDict['attenList'] = [ 60, 70, 80, 90]\n",
    "inputDict['readout_lengthList'] = [ 1000, 1000, 1000, 1000]  # time to average over\n",
    "inputDict['n_roundsList'] = [4, 8, 10, 10]  # number of times to sweep along the frequency axis\n",
    "inputDict['n_repsList'] = [500, 1000, 2000, 2000] # number of repetitions to take at each frequency point"
   ]
  },
  {
   "cell_type": "markdown",
   "id": "15f28f09",
   "metadata": {},
   "source": [
    "# Acquire"
   ]
  },
  {
   "cell_type": "code",
   "execution_count": 10,
   "id": "0e441543",
   "metadata": {
    "scrolled": false
   },
   "outputs": [
    {
     "name": "stdout",
     "output_type": "stream",
     "text": [
      "Setting attenuation\n",
      "4  device(s) found\n",
      "Device 0 Serial number: 27784\n",
      "Device 1 Serial number: 27713\n",
      "Device 2 Serial number: 25630\n",
      "Device 3 Serial number: 27712\n",
      "Device was found to be device 3\n",
      "Set attenuation: 30.0\n",
      "Device 4 Serial number: 0\n",
      "Setting attenuation\n",
      "4  device(s) found\n",
      "Device 0 Serial number: 27784\n",
      "Device was found to be device 0\n",
      "Set attenuation: 30.0\n",
      "Device 1 Serial number: 27713\n",
      "Device 2 Serial number: 25630\n",
      "Device 3 Serial number: 27712\n",
      "Device 4 Serial number: 0\n",
      "Pulse frequencies are: [-552.28690023 -118.71380053] MHz\n",
      "Frequencies out are: [1147.7131, 1581.2861999999996] MHz\n"
     ]
    },
    {
     "name": "stderr",
     "output_type": "stream",
     "text": [
      "C:\\Users\\my\\Documents\\GitHub\\ZCU216_Russell\\res_dev\\notebooks\\2022-06-16 resonators/../../Client_modules\\mResSweep.py:256: UserWarning: Temperature log is 546.4 minutes out of date. Make sure you are outputting the log file from the temperature PC\n",
      "  warnings.warn(\n"
     ]
    },
    {
     "data": {
      "application/vnd.jupyter.widget-view+json": {
       "model_id": "af73b905c4104c84821ba5e18d71b7a0",
       "version_major": 2,
       "version_minor": 0
      },
      "text/plain": [
       "  0%|          | 0/601 [00:00<?, ?it/s]"
      ]
     },
     "metadata": {},
     "output_type": "display_data"
    },
    {
     "name": "stdout",
     "output_type": "stream",
     "text": [
      "Round 0, time 320.347 s\n"
     ]
    },
    {
     "data": {
      "application/vnd.jupyter.widget-view+json": {
       "model_id": "b10124a325674b96993ad7b1166d13cd",
       "version_major": 2,
       "version_minor": 0
      },
      "text/plain": [
       "  0%|          | 0/601 [00:00<?, ?it/s]"
      ]
     },
     "metadata": {},
     "output_type": "display_data"
    },
    {
     "name": "stdout",
     "output_type": "stream",
     "text": [
      "Round 1, time 320.464 s\n"
     ]
    },
    {
     "data": {
      "application/vnd.jupyter.widget-view+json": {
       "model_id": "010c9a6f20e547bca0fda882fce503c4",
       "version_major": 2,
       "version_minor": 0
      },
      "text/plain": [
       "  0%|          | 0/601 [00:00<?, ?it/s]"
      ]
     },
     "metadata": {},
     "output_type": "display_data"
    },
    {
     "name": "stdout",
     "output_type": "stream",
     "text": [
      "Round 2, time 320.038 s\n"
     ]
    },
    {
     "data": {
      "application/vnd.jupyter.widget-view+json": {
       "model_id": "2966319a0265406ebe4d0d2d35d4b0de",
       "version_major": 2,
       "version_minor": 0
      },
      "text/plain": [
       "  0%|          | 0/601 [00:00<?, ?it/s]"
      ]
     },
     "metadata": {},
     "output_type": "display_data"
    },
    {
     "name": "stdout",
     "output_type": "stream",
     "text": [
      "Round 3, time 320.503 s\n",
      "Final time = 1281.352 s\n"
     ]
    },
    {
     "name": "stderr",
     "output_type": "stream",
     "text": [
      "C:\\Users\\my\\Documents\\GitHub\\ZCU216_Russell\\res_dev\\notebooks\\2022-06-16 resonators/../../Client_modules\\mResSweep.py:256: UserWarning: Temperature log is 567.7 minutes out of date. Make sure you are outputting the log file from the temperature PC\n",
      "  warnings.warn(\n"
     ]
    },
    {
     "name": "stdout",
     "output_type": "stream",
     "text": [
      "Saving data_p-60_018\n",
      "Setting attenuation\n",
      "4  device(s) found\n",
      "Device 0 Serial number: 27784\n",
      "Device 1 Serial number: 27713\n",
      "Device 2 Serial number: 25630\n",
      "Device 3 Serial number: 27712\n",
      "Device was found to be device 3\n",
      "Set attenuation: 35.0\n",
      "Device 4 Serial number: 0\n",
      "Setting attenuation\n",
      "4  device(s) found\n",
      "Device 0 Serial number: 27784\n",
      "Device was found to be device 0\n",
      "Set attenuation: 35.0\n",
      "Device 1 Serial number: 27713\n",
      "Device 2 Serial number: 25630\n",
      "Device 3 Serial number: 27712\n",
      "Device 4 Serial number: 0\n",
      "Pulse frequencies are: [-552.28690023 -118.71380053] MHz\n",
      "Frequencies out are: [1147.7131, 1581.2861999999996] MHz\n"
     ]
    },
    {
     "name": "stderr",
     "output_type": "stream",
     "text": [
      "C:\\Users\\my\\Documents\\GitHub\\ZCU216_Russell\\res_dev\\notebooks\\2022-06-16 resonators/../../Client_modules\\mResSweep.py:256: UserWarning: Temperature log is 567.7 minutes out of date. Make sure you are outputting the log file from the temperature PC\n",
      "  warnings.warn(\n"
     ]
    },
    {
     "data": {
      "application/vnd.jupyter.widget-view+json": {
       "model_id": "cc12ae9895b24e719eefdf7a6abded48",
       "version_major": 2,
       "version_minor": 0
      },
      "text/plain": [
       "  0%|          | 0/601 [00:00<?, ?it/s]"
      ]
     },
     "metadata": {},
     "output_type": "display_data"
    },
    {
     "name": "stdout",
     "output_type": "stream",
     "text": [
      "Round 0, time 620.599 s\n"
     ]
    },
    {
     "data": {
      "application/vnd.jupyter.widget-view+json": {
       "model_id": "8afce44fb52245a7b2584aa28721062c",
       "version_major": 2,
       "version_minor": 0
      },
      "text/plain": [
       "  0%|          | 0/601 [00:00<?, ?it/s]"
      ]
     },
     "metadata": {},
     "output_type": "display_data"
    },
    {
     "name": "stdout",
     "output_type": "stream",
     "text": [
      "Round 1, time 620.451 s\n"
     ]
    },
    {
     "data": {
      "application/vnd.jupyter.widget-view+json": {
       "model_id": "2effa515476447c8b3cdb75c73ed17b5",
       "version_major": 2,
       "version_minor": 0
      },
      "text/plain": [
       "  0%|          | 0/601 [00:00<?, ?it/s]"
      ]
     },
     "metadata": {},
     "output_type": "display_data"
    },
    {
     "name": "stdout",
     "output_type": "stream",
     "text": [
      "Round 2, time 620.462 s\n"
     ]
    },
    {
     "data": {
      "application/vnd.jupyter.widget-view+json": {
       "model_id": "b1f632128bff41e989047932d018c78a",
       "version_major": 2,
       "version_minor": 0
      },
      "text/plain": [
       "  0%|          | 0/601 [00:00<?, ?it/s]"
      ]
     },
     "metadata": {},
     "output_type": "display_data"
    },
    {
     "name": "stdout",
     "output_type": "stream",
     "text": [
      "Round 3, time 620.650 s\n"
     ]
    },
    {
     "data": {
      "application/vnd.jupyter.widget-view+json": {
       "model_id": "86234cdcf5a944759f2ba296ef792d7d",
       "version_major": 2,
       "version_minor": 0
      },
      "text/plain": [
       "  0%|          | 0/601 [00:00<?, ?it/s]"
      ]
     },
     "metadata": {},
     "output_type": "display_data"
    },
    {
     "name": "stdout",
     "output_type": "stream",
     "text": [
      "Round 4, time 620.526 s\n"
     ]
    },
    {
     "data": {
      "application/vnd.jupyter.widget-view+json": {
       "model_id": "658c3f450c6b4d4ba5182623c74850bc",
       "version_major": 2,
       "version_minor": 0
      },
      "text/plain": [
       "  0%|          | 0/601 [00:00<?, ?it/s]"
      ]
     },
     "metadata": {},
     "output_type": "display_data"
    },
    {
     "name": "stdout",
     "output_type": "stream",
     "text": [
      "Round 5, time 620.408 s\n"
     ]
    },
    {
     "data": {
      "application/vnd.jupyter.widget-view+json": {
       "model_id": "c9dd97caedbc41bb98b999eed3882877",
       "version_major": 2,
       "version_minor": 0
      },
      "text/plain": [
       "  0%|          | 0/601 [00:00<?, ?it/s]"
      ]
     },
     "metadata": {},
     "output_type": "display_data"
    },
    {
     "name": "stdout",
     "output_type": "stream",
     "text": [
      "Round 6, time 620.540 s\n"
     ]
    },
    {
     "data": {
      "application/vnd.jupyter.widget-view+json": {
       "model_id": "4ea1f86f9ade4bc7b0b5e7760a730ce1",
       "version_major": 2,
       "version_minor": 0
      },
      "text/plain": [
       "  0%|          | 0/601 [00:00<?, ?it/s]"
      ]
     },
     "metadata": {},
     "output_type": "display_data"
    },
    {
     "name": "stdout",
     "output_type": "stream",
     "text": [
      "Round 7, time 620.223 s\n",
      "Final time = 4963.859 s\n"
     ]
    },
    {
     "name": "stderr",
     "output_type": "stream",
     "text": [
      "C:\\Users\\my\\Documents\\GitHub\\ZCU216_Russell\\res_dev\\notebooks\\2022-06-16 resonators/../../Client_modules\\mResSweep.py:256: UserWarning: Temperature log is 650.5 minutes out of date. Make sure you are outputting the log file from the temperature PC\n",
      "  warnings.warn(\n"
     ]
    },
    {
     "name": "stdout",
     "output_type": "stream",
     "text": [
      "Saving data_p-70_018\n",
      "Setting attenuation\n",
      "4  device(s) found\n",
      "Device 0 Serial number: 27784\n",
      "Device 1 Serial number: 27713\n",
      "Device 2 Serial number: 25630\n",
      "Device 3 Serial number: 27712\n",
      "Device was found to be device 3\n",
      "Set attenuation: 40.0\n",
      "Device 4 Serial number: 0\n",
      "Setting attenuation\n",
      "4  device(s) found\n",
      "Device 0 Serial number: 27784\n",
      "Device was found to be device 0\n",
      "Set attenuation: 40.0\n",
      "Device 1 Serial number: 27713\n",
      "Device 2 Serial number: 25630\n",
      "Device 3 Serial number: 27712\n",
      "Device 4 Serial number: 0\n",
      "Pulse frequencies are: [-552.28690023 -118.71380053] MHz\n",
      "Frequencies out are: [1147.7131, 1581.2861999999996] MHz\n"
     ]
    },
    {
     "name": "stderr",
     "output_type": "stream",
     "text": [
      "C:\\Users\\my\\Documents\\GitHub\\ZCU216_Russell\\res_dev\\notebooks\\2022-06-16 resonators/../../Client_modules\\mResSweep.py:256: UserWarning: Temperature log is 650.5 minutes out of date. Make sure you are outputting the log file from the temperature PC\n",
      "  warnings.warn(\n"
     ]
    },
    {
     "data": {
      "application/vnd.jupyter.widget-view+json": {
       "model_id": "bb75c08e263a479299fcd17315490be4",
       "version_major": 2,
       "version_minor": 0
      },
      "text/plain": [
       "  0%|          | 0/601 [00:00<?, ?it/s]"
      ]
     },
     "metadata": {},
     "output_type": "display_data"
    },
    {
     "name": "stdout",
     "output_type": "stream",
     "text": [
      "Round 0, time 1221.808 s\n"
     ]
    },
    {
     "data": {
      "application/vnd.jupyter.widget-view+json": {
       "model_id": "d748430c0da5453ba3be631da88b034c",
       "version_major": 2,
       "version_minor": 0
      },
      "text/plain": [
       "  0%|          | 0/601 [00:00<?, ?it/s]"
      ]
     },
     "metadata": {},
     "output_type": "display_data"
    },
    {
     "name": "stdout",
     "output_type": "stream",
     "text": [
      "Round 1, time 1221.465 s\n"
     ]
    },
    {
     "data": {
      "application/vnd.jupyter.widget-view+json": {
       "model_id": "cae96e747c4d4e40b94f520dd965c452",
       "version_major": 2,
       "version_minor": 0
      },
      "text/plain": [
       "  0%|          | 0/601 [00:00<?, ?it/s]"
      ]
     },
     "metadata": {},
     "output_type": "display_data"
    },
    {
     "name": "stdout",
     "output_type": "stream",
     "text": [
      "Round 2, time 1221.576 s\n"
     ]
    },
    {
     "data": {
      "application/vnd.jupyter.widget-view+json": {
       "model_id": "5a2b6a875fe54cb098d688fbb1621d95",
       "version_major": 2,
       "version_minor": 0
      },
      "text/plain": [
       "  0%|          | 0/601 [00:00<?, ?it/s]"
      ]
     },
     "metadata": {},
     "output_type": "display_data"
    },
    {
     "name": "stdout",
     "output_type": "stream",
     "text": [
      "Round 3, time 1221.309 s\n"
     ]
    },
    {
     "data": {
      "application/vnd.jupyter.widget-view+json": {
       "model_id": "0b94a144dd6d4319941af91b730b39a9",
       "version_major": 2,
       "version_minor": 0
      },
      "text/plain": [
       "  0%|          | 0/601 [00:00<?, ?it/s]"
      ]
     },
     "metadata": {},
     "output_type": "display_data"
    },
    {
     "name": "stdout",
     "output_type": "stream",
     "text": [
      "Round 4, time 1221.369 s\n"
     ]
    },
    {
     "data": {
      "application/vnd.jupyter.widget-view+json": {
       "model_id": "dc74fa79d9ee4f4ab83dbf5ca2e87b16",
       "version_major": 2,
       "version_minor": 0
      },
      "text/plain": [
       "  0%|          | 0/601 [00:00<?, ?it/s]"
      ]
     },
     "metadata": {},
     "output_type": "display_data"
    },
    {
     "name": "stdout",
     "output_type": "stream",
     "text": [
      "Round 5, time 1221.472 s\n"
     ]
    },
    {
     "data": {
      "application/vnd.jupyter.widget-view+json": {
       "model_id": "1f33c8812ac444649a09ce01b3cda548",
       "version_major": 2,
       "version_minor": 0
      },
      "text/plain": [
       "  0%|          | 0/601 [00:00<?, ?it/s]"
      ]
     },
     "metadata": {},
     "output_type": "display_data"
    },
    {
     "name": "stdout",
     "output_type": "stream",
     "text": [
      "Round 6, time 1221.580 s\n"
     ]
    },
    {
     "data": {
      "application/vnd.jupyter.widget-view+json": {
       "model_id": "b8094108388b49d89b5c820f8bda9344",
       "version_major": 2,
       "version_minor": 0
      },
      "text/plain": [
       "  0%|          | 0/601 [00:00<?, ?it/s]"
      ]
     },
     "metadata": {},
     "output_type": "display_data"
    },
    {
     "name": "stdout",
     "output_type": "stream",
     "text": [
      "Round 7, time 1221.499 s\n"
     ]
    },
    {
     "data": {
      "application/vnd.jupyter.widget-view+json": {
       "model_id": "885bc7690cdf45529e257f36bc746a32",
       "version_major": 2,
       "version_minor": 0
      },
      "text/plain": [
       "  0%|          | 0/601 [00:00<?, ?it/s]"
      ]
     },
     "metadata": {},
     "output_type": "display_data"
    },
    {
     "name": "stdout",
     "output_type": "stream",
     "text": [
      "Round 8, time 1221.563 s\n"
     ]
    },
    {
     "data": {
      "application/vnd.jupyter.widget-view+json": {
       "model_id": "b512586c2fa940dca3642c9cad33cd13",
       "version_major": 2,
       "version_minor": 0
      },
      "text/plain": [
       "  0%|          | 0/601 [00:00<?, ?it/s]"
      ]
     },
     "metadata": {},
     "output_type": "display_data"
    },
    {
     "name": "stdout",
     "output_type": "stream",
     "text": [
      "Round 9, time 1221.646 s\n",
      "Final time = 12215.289 s\n"
     ]
    },
    {
     "name": "stderr",
     "output_type": "stream",
     "text": [
      "C:\\Users\\my\\Documents\\GitHub\\ZCU216_Russell\\res_dev\\notebooks\\2022-06-16 resonators/../../Client_modules\\mResSweep.py:256: UserWarning: Temperature log is 854.1 minutes out of date. Make sure you are outputting the log file from the temperature PC\n",
      "  warnings.warn(\n"
     ]
    },
    {
     "name": "stdout",
     "output_type": "stream",
     "text": [
      "Saving data_p-80_019\n",
      "Setting attenuation\n",
      "4  device(s) found\n",
      "Device 0 Serial number: 27784\n",
      "Device 1 Serial number: 27713\n",
      "Device 2 Serial number: 25630\n",
      "Device 3 Serial number: 27712\n",
      "Device was found to be device 3\n",
      "Set attenuation: 45.0\n",
      "Device 4 Serial number: 0\n",
      "Setting attenuation\n",
      "4  device(s) found\n",
      "Device 0 Serial number: 27784\n",
      "Device was found to be device 0\n",
      "Set attenuation: 45.0\n",
      "Device 1 Serial number: 27713\n",
      "Device 2 Serial number: 25630\n",
      "Device 3 Serial number: 27712\n",
      "Device 4 Serial number: 0\n",
      "Pulse frequencies are: [-552.28690023 -118.71380053] MHz\n",
      "Frequencies out are: [1147.7131, 1581.2861999999996] MHz\n"
     ]
    },
    {
     "name": "stderr",
     "output_type": "stream",
     "text": [
      "C:\\Users\\my\\Documents\\GitHub\\ZCU216_Russell\\res_dev\\notebooks\\2022-06-16 resonators/../../Client_modules\\mResSweep.py:256: UserWarning: Temperature log is 854.1 minutes out of date. Make sure you are outputting the log file from the temperature PC\n",
      "  warnings.warn(\n"
     ]
    },
    {
     "data": {
      "application/vnd.jupyter.widget-view+json": {
       "model_id": "c2ab8976f4674fedb7c4c741a8c357f3",
       "version_major": 2,
       "version_minor": 0
      },
      "text/plain": [
       "  0%|          | 0/601 [00:00<?, ?it/s]"
      ]
     },
     "metadata": {},
     "output_type": "display_data"
    },
    {
     "name": "stdout",
     "output_type": "stream",
     "text": [
      "Round 0, time 1221.489 s\n"
     ]
    },
    {
     "data": {
      "application/vnd.jupyter.widget-view+json": {
       "model_id": "f3a4f2c3062c4763a0d18afcd2a34cea",
       "version_major": 2,
       "version_minor": 0
      },
      "text/plain": [
       "  0%|          | 0/601 [00:00<?, ?it/s]"
      ]
     },
     "metadata": {},
     "output_type": "display_data"
    },
    {
     "name": "stdout",
     "output_type": "stream",
     "text": [
      "Round 1, time 1221.479 s\n"
     ]
    },
    {
     "data": {
      "application/vnd.jupyter.widget-view+json": {
       "model_id": "2928959ebb894891a69aad9334788e08",
       "version_major": 2,
       "version_minor": 0
      },
      "text/plain": [
       "  0%|          | 0/601 [00:00<?, ?it/s]"
      ]
     },
     "metadata": {},
     "output_type": "display_data"
    },
    {
     "name": "stdout",
     "output_type": "stream",
     "text": [
      "Round 2, time 1221.639 s\n"
     ]
    },
    {
     "data": {
      "application/vnd.jupyter.widget-view+json": {
       "model_id": "161fa41efaf941bbad3ff947611687b9",
       "version_major": 2,
       "version_minor": 0
      },
      "text/plain": [
       "  0%|          | 0/601 [00:00<?, ?it/s]"
      ]
     },
     "metadata": {},
     "output_type": "display_data"
    },
    {
     "name": "stdout",
     "output_type": "stream",
     "text": [
      "Round 3, time 1221.584 s\n"
     ]
    },
    {
     "data": {
      "application/vnd.jupyter.widget-view+json": {
       "model_id": "8c4ce5f229324bf3865394c189ac7334",
       "version_major": 2,
       "version_minor": 0
      },
      "text/plain": [
       "  0%|          | 0/601 [00:00<?, ?it/s]"
      ]
     },
     "metadata": {},
     "output_type": "display_data"
    },
    {
     "name": "stdout",
     "output_type": "stream",
     "text": [
      "Round 4, time 1221.658 s\n"
     ]
    },
    {
     "data": {
      "application/vnd.jupyter.widget-view+json": {
       "model_id": "e40335410b7d4b359e75b4a48a0710b8",
       "version_major": 2,
       "version_minor": 0
      },
      "text/plain": [
       "  0%|          | 0/601 [00:00<?, ?it/s]"
      ]
     },
     "metadata": {},
     "output_type": "display_data"
    },
    {
     "name": "stdout",
     "output_type": "stream",
     "text": [
      "Round 5, time 1221.682 s\n"
     ]
    },
    {
     "data": {
      "application/vnd.jupyter.widget-view+json": {
       "model_id": "a77e0e3ed85a4ba096e93f1efe99dc19",
       "version_major": 2,
       "version_minor": 0
      },
      "text/plain": [
       "  0%|          | 0/601 [00:00<?, ?it/s]"
      ]
     },
     "metadata": {},
     "output_type": "display_data"
    },
    {
     "name": "stdout",
     "output_type": "stream",
     "text": [
      "Round 6, time 1221.645 s\n"
     ]
    },
    {
     "data": {
      "application/vnd.jupyter.widget-view+json": {
       "model_id": "6e415ca559354ae19caade3992374de5",
       "version_major": 2,
       "version_minor": 0
      },
      "text/plain": [
       "  0%|          | 0/601 [00:00<?, ?it/s]"
      ]
     },
     "metadata": {},
     "output_type": "display_data"
    },
    {
     "name": "stdout",
     "output_type": "stream",
     "text": [
      "Round 7, time 1221.628 s\n"
     ]
    },
    {
     "data": {
      "application/vnd.jupyter.widget-view+json": {
       "model_id": "151017ca4f574ed2b7cd300e065ddcb1",
       "version_major": 2,
       "version_minor": 0
      },
      "text/plain": [
       "  0%|          | 0/601 [00:00<?, ?it/s]"
      ]
     },
     "metadata": {},
     "output_type": "display_data"
    },
    {
     "name": "stdout",
     "output_type": "stream",
     "text": [
      "Round 8, time 1221.853 s\n"
     ]
    },
    {
     "data": {
      "application/vnd.jupyter.widget-view+json": {
       "model_id": "47c20837e25b452d9557908d493e8af4",
       "version_major": 2,
       "version_minor": 0
      },
      "text/plain": [
       "  0%|          | 0/601 [00:00<?, ?it/s]"
      ]
     },
     "metadata": {},
     "output_type": "display_data"
    },
    {
     "name": "stdout",
     "output_type": "stream",
     "text": [
      "Round 9, time 1221.430 s\n",
      "Final time = 12216.088 s\n"
     ]
    },
    {
     "name": "stderr",
     "output_type": "stream",
     "text": [
      "C:\\Users\\my\\Documents\\GitHub\\ZCU216_Russell\\res_dev\\notebooks\\2022-06-16 resonators/../../Client_modules\\mResSweep.py:256: UserWarning: Temperature log is 1057.7 minutes out of date. Make sure you are outputting the log file from the temperature PC\n",
      "  warnings.warn(\n"
     ]
    },
    {
     "name": "stdout",
     "output_type": "stream",
     "text": [
      "Saving data_p-90_017\n"
     ]
    }
   ],
   "source": [
    "# Acquire\n",
    "for i, atten in enumerate(inputDict['attenList']):\n",
    "    # update per power parameters\n",
    "    inputDict['power'] = inputDict['basePower']-atten\n",
    "    inputDict['n_rounds'] = inputDict['n_roundsList'][i]\n",
    "    inputDict['n_reps'] = inputDict['n_repsList'][i]\n",
    "    inputDict['readout_length'] = inputDict['readout_lengthList'][i]\n",
    "\n",
    "    # set attenuation. Split it evenly across all attenuators\n",
    "    # NOTE: What happens if we average to somewhere between the resolution of the attenuators? Possible issue\n",
    "    for serial in inputDict['attenSerial']:\n",
    "        setatten(atten/len(inputDict['attenSerial']), serial, printv=True)\n",
    "\n",
    "    # run a frequency sweep\n",
    "    Instance = mResSweep.ResSweep(path=savePath, prefix='data_p'+str(inputDict['power']), inputDict=inputDict, soc=soc, soccfg=soccfg)\n",
    "    data = mResSweep.ResSweep.acquire(Instance)\n",
    "    mResSweep.ResSweep.display(Instance, data)\n",
    "    mResSweep.ResSweep.save_data(Instance, data)"
   ]
  },
  {
   "cell_type": "code",
   "execution_count": null,
   "id": "6c26c5b3",
   "metadata": {},
   "outputs": [],
   "source": [
    "print(inputDict['gain'])"
   ]
  },
  {
   "cell_type": "code",
   "execution_count": null,
   "id": "8de61dc1",
   "metadata": {},
   "outputs": [],
   "source": [
    "fig, axs = plt.subplots(2, 2, figsize=(4.5, 4.5), dpi=75)"
   ]
  },
  {
   "cell_type": "code",
   "execution_count": null,
   "id": "fc89a7b0",
   "metadata": {},
   "outputs": [],
   "source": [
    "axs"
   ]
  },
  {
   "cell_type": "code",
   "execution_count": null,
   "id": "f295c950",
   "metadata": {},
   "outputs": [],
   "source": []
  }
 ],
 "metadata": {
  "kernelspec": {
   "display_name": "Python 3 (ipykernel)",
   "language": "python",
   "name": "python3"
  },
  "language_info": {
   "codemirror_mode": {
    "name": "ipython",
    "version": 3
   },
   "file_extension": ".py",
   "mimetype": "text/x-python",
   "name": "python",
   "nbconvert_exporter": "python",
   "pygments_lexer": "ipython3",
   "version": "3.10.4"
  },
  "toc": {
   "base_numbering": 1,
   "nav_menu": {},
   "number_sections": true,
   "sideBar": true,
   "skip_h1_title": false,
   "title_cell": "Table of Contents",
   "title_sidebar": "Contents",
   "toc_cell": false,
   "toc_position": {
    "height": "calc(100% - 180px)",
    "left": "10px",
    "top": "150px",
    "width": "451.7646789550781px"
   },
   "toc_section_display": true,
   "toc_window_display": true
  }
 },
 "nbformat": 4,
 "nbformat_minor": 5
}
