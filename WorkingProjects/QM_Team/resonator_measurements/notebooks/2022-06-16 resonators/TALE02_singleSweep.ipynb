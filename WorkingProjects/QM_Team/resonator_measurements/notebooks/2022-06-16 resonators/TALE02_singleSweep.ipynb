{
 "cells": [
  {
   "cell_type": "markdown",
   "id": "e83e8dc6",
   "metadata": {},
   "source": [
    "# Imports and initializations"
   ]
  },
  {
   "cell_type": "code",
   "execution_count": 1,
   "id": "bfd75a11",
   "metadata": {},
   "outputs": [
    {
     "name": "stdout",
     "output_type": "stream",
     "text": [
      "Could not import QickSoc: No module named 'pynq'\n"
     ]
    },
    {
     "data": {
      "text/plain": [
       "<AddedDllDirectory('C:\\\\Users\\\\my\\\\Documents\\\\GitHub\\\\ZCU216_Russell\\\\res_dev\\\\notebooks\\\\2022-06-16 resonators/../../Client_modules/PythonDrivers')>"
      ]
     },
     "execution_count": 1,
     "metadata": {},
     "output_type": "execute_result"
    }
   ],
   "source": [
    "# add our custom modules to the python import path\n",
    "import sys\n",
    "import os\n",
    "sys.path.append(os.getcwd() + '/../../Client_modules/')\n",
    "\n",
    "import mResSweep\n",
    "from socProxy import makeProxy\n",
    "import h5py\n",
    "from PythonDrivers.control_atten import setatten\n",
    "# import PythonDrivers.YOKOGS200 as YOKOGS200\n",
    "%matplotlib qt\n",
    "import matplotlib.pyplot as plt\n",
    "savePath = r'Z:\\t1Team\\Data\\TALE02_06_16_22\\RFSOC\\freqDomain'\n",
    "\n",
    "# Python 3.7\n",
    "# os.environ['PATH'] = os.getcwd() + '\\\\PythonDrivers' + os.pathsep + os.environ['PATH']\n",
    "# Python 3.8 and newer\n",
    "os.add_dll_directory(os.getcwd() + '/../../Client_modules/PythonDrivers')"
   ]
  },
  {
   "cell_type": "code",
   "execution_count": 2,
   "id": "6cf766a9",
   "metadata": {},
   "outputs": [
    {
     "name": "stdout",
     "output_type": "stream",
     "text": [
      "Pyro.NameServer PYRO:Pyro.NameServer@192.168.1.120:8888\n",
      "myqick PYRO:obj_032068d89f56432daba14108ce8239b6@192.168.1.120:43613\n",
      "\n",
      "QICK configuration:\n",
      "\n",
      "\tBoard: ZCU216\n",
      "\n",
      "\tGlobal clocks (MHz): tProcessor 349.997, RF reference 245.760\n",
      "\n",
      "\t7 signal generator channels:\n",
      "\t0:\taxis_sg_int4_v1 - tProc output 0, switch ch 0, maxlen 4096\n",
      "\t\tDAC tile 2, ch 0, 16-bit DDS, fabric=430.080 MHz, fs=1720.320 MHz\n",
      "\t1:\taxis_sg_int4_v1 - tProc output 1, switch ch 1, maxlen 4096\n",
      "\t\tDAC tile 2, ch 1, 16-bit DDS, fabric=430.080 MHz, fs=1720.320 MHz\n",
      "\t2:\taxis_sg_int4_v1 - tProc output 2, switch ch 2, maxlen 4096\n",
      "\t\tDAC tile 2, ch 2, 16-bit DDS, fabric=430.080 MHz, fs=1720.320 MHz\n",
      "\t3:\taxis_sg_int4_v1 - tProc output 3, switch ch 3, maxlen 4096\n",
      "\t\tDAC tile 2, ch 3, 16-bit DDS, fabric=430.080 MHz, fs=1720.320 MHz\n",
      "\t4:\taxis_signal_gen_v6 - tProc output 4, switch ch 4, maxlen 65536\n",
      "\t\tDAC tile 3, ch 0, 32-bit DDS, fabric=599.040 MHz, fs=9584.640 MHz\n",
      "\t5:\taxis_signal_gen_v6 - tProc output 5, switch ch 5, maxlen 65536\n",
      "\t\tDAC tile 3, ch 1, 32-bit DDS, fabric=599.040 MHz, fs=9584.640 MHz\n",
      "\t6:\taxis_sg_mux4_v2 - tProc output 6, switch ch -1, maxlen 0\n",
      "\t\tDAC tile 0, ch 0, 32-bit DDS, fabric=430.080 MHz, fs=1720.320 MHz\n",
      "\n",
      "\t4 constant-IQ outputs:\n",
      "\t0:\tDAC tile 1, ch 0, fs=6881.280 MHz\n",
      "\t1:\tDAC tile 1, ch 1, fs=6881.280 MHz\n",
      "\t2:\tDAC tile 1, ch 2, fs=6881.280 MHz\n",
      "\t3:\tDAC tile 1, ch 3, fs=6881.280 MHz\n",
      "\n",
      "\t4 readout channels:\n",
      "\t0:\tADC tile 2, ch 0, 35-bit DDS, fabric=307.200 MHz, fs=2457.600 MHz\n",
      "\t\tmaxlen 1024 (avg) 1024 (decimated), trigger 4, tProc input 0\n",
      "\t1:\tADC tile 2, ch 0, 35-bit DDS, fabric=307.200 MHz, fs=2457.600 MHz\n",
      "\t\tmaxlen 1024 (avg) 1024 (decimated), trigger 5, tProc input 1\n",
      "\t2:\tADC tile 2, ch 0, 35-bit DDS, fabric=307.200 MHz, fs=2457.600 MHz\n",
      "\t\tmaxlen 1024 (avg) 1024 (decimated), trigger 6, tProc input 2\n",
      "\t3:\tADC tile 2, ch 0, 35-bit DDS, fabric=307.200 MHz, fs=2457.600 MHz\n",
      "\t\tmaxlen 1024 (avg) 1024 (decimated), trigger 7, tProc input 3\n",
      "\n",
      "\ttProc: 1024 words program memory, 1024 words data memory\n"
     ]
    }
   ],
   "source": [
    "# create proxy to ZCU216 board\n",
    "soc, soccfg = makeProxy('192.168.1.104')\n",
    "print(soccfg)"
   ]
  },
  {
   "cell_type": "markdown",
   "id": "1c48730a",
   "metadata": {},
   "source": [
    "# Define sweep parameters"
   ]
  },
  {
   "cell_type": "code",
   "execution_count": 3,
   "id": "0bdc6bed",
   "metadata": {
    "collapsed": true
   },
   "outputs": [],
   "source": [
    "inputDict = {}\n",
    "inputDict['LO_f'] = 5e3  # local oscillator frequency\n",
    "\n",
    "# for spectrum analyzer shots\n",
    "# inputDict['mixerCenter_f'] = 1700  # center frequency for the mixer\n",
    "# inputDict['span_f'] = 0  # frequency span to sweep over. The same for all resonators\n",
    "# inputDict['res_f'] = [5.9e3, 6.411658e3, 7.05506e3, 7.5e3]  # center frequencies of the resonators\n",
    "\n",
    "#frequencies for large span measurement\n",
    "# inputDict['LO_f'] = 0e3  # local oscillator frequency\n",
    "# inputDict['mixerCenter_f'] = 1.5e3  # center frequency for the mixer\n",
    "# inputDict['span_f'] = 1000  # frequency span to sweep over. The same for all resonators\n",
    "# inputDict['res_f'] = [1.5e3]  # center frequencies of the resonators\n",
    "\n",
    "# define frequencies\n",
    "inputDict['mixerCenter_f'] = 1700  # center frequency for the mixer\n",
    "inputDict['span_f'] = 0.  # frequency span to sweep over. The same for all resonators\n",
    "# inputDict['res_f'] = [6.1477131e3, 6.5812862e3]  # center frequencies of the resonators\n",
    "inputDict['res_f'] = [6.1577131e3, 6.6012862e3]  # center frequencies of the resonators\n",
    "# inputDict['res_f'] = [7e3]  # center frequencies of the resonators\n",
    "\n",
    "# define numbers of points\n",
    "inputDict['n_expts'] = 3001  # number of points along the frequency axis\n",
    "inputDict['n_rounds'] = 100  # number of times to sweep along the frequency axis\n",
    "inputDict['n_reps'] = 200  # number of repetitions to take at each frequency point\n",
    "\n",
    "# timing. Units are clock cycles, but converted from us\n",
    "inputDict['ring_up_time'] = 500  # time waiting for the resonator to ring up at the start of each sweep\n",
    "inputDict['ring_between_time'] = 50  # time waiting for the resonator to ring up at the start of each sweep\n",
    "inputDict['readout_length'] = 1000  # time to average over\n",
    "inputDict['adc_trig_offset'] = 0.1  # time after the DAC starts the final steady pulse before the ADC starts it's read\n",
    "\n",
    "# power\n",
    "inputDict['basePower'] = 0 # dBm\n",
    "inputDict['gain'] = [1, 0.7]\n",
    "# inputDict['gain'] = [1]"
   ]
  },
  {
   "cell_type": "markdown",
   "id": "8c9cb873",
   "metadata": {},
   "source": [
    "# Acquire data"
   ]
  },
  {
   "cell_type": "code",
   "execution_count": null,
   "id": "ba11475f",
   "metadata": {
    "collapsed": true
   },
   "outputs": [],
   "source": [
    "# Acquire\n",
    "inputDict['power'] = inputDict['basePower']\n",
    "Instance = mResSweep.ResSweep(path=savePath, prefix='data', inputDict=inputDict, soc=soc, soccfg=soccfg)\n",
    "data = mResSweep.ResSweep.acquire(Instance)\n",
    "# mResSweep.ResSweep.save_data(Instance, data)"
   ]
  },
  {
   "cell_type": "markdown",
   "id": "f222e54a",
   "metadata": {},
   "source": [
    "# display results"
   ]
  },
  {
   "cell_type": "code",
   "execution_count": null,
   "id": "f9d056e2",
   "metadata": {
    "collapsed": true
   },
   "outputs": [],
   "source": [
    "mResSweep.ResSweep.display(Instance, data)"
   ]
  },
  {
   "cell_type": "code",
   "execution_count": null,
   "id": "12354f3e",
   "metadata": {
    "collapsed": true
   },
   "outputs": [],
   "source": [
    "print(Instance.data['data']['temperature'])"
   ]
  },
  {
   "cell_type": "code",
   "execution_count": null,
   "id": "6fddc99a",
   "metadata": {
    "collapsed": true
   },
   "outputs": [],
   "source": []
  },
  {
   "cell_type": "code",
   "execution_count": 8,
   "id": "890e65c1",
   "metadata": {},
   "outputs": [
    {
     "name": "stderr",
     "output_type": "stream",
     "text": [
      "C:\\Users\\my\\Documents\\GitHub\\ZCU216_Russell\\res_dev\\notebooks\\2022-06-16 resonators/../../Client_modules\\mResSweep.py:256: UserWarning: Temperature log is 1288.3 minutes out of date. Make sure you are outputting the log file from the temperature PC\n",
      "  warnings.warn(\n"
     ]
    },
    {
     "name": "stdout",
     "output_type": "stream",
     "text": [
      "Pulse frequencies are: [-542.28690033  -98.71380072] MHz\n",
      "Frequencies out are: [1157.7131, 1601.2861999999996] MHz\n",
      "start decimated\n",
      "decimated done\n"
     ]
    }
   ],
   "source": [
    "# Acquire\n",
    "inputDict['power'] = inputDict['basePower']\n",
    "Instance = mResSweep.ResSweep(path=savePath, prefix='data', inputDict=inputDict, soc=soc, soccfg=soccfg)\n",
    "data = mResSweep.ResSweep.acquire_decimated(Instance)\n",
    "mResSweep.ResSweep.display_decimated(Instance, data)"
   ]
  },
  {
   "cell_type": "code",
   "execution_count": null,
   "id": "c6fbddaa",
   "metadata": {
    "collapsed": true
   },
   "outputs": [],
   "source": []
  }
 ],
 "metadata": {
  "kernelspec": {
   "display_name": "Python 3 (ipykernel)",
   "language": "python",
   "name": "python3"
  },
  "language_info": {
   "codemirror_mode": {
    "name": "ipython",
    "version": 3
   },
   "file_extension": ".py",
   "mimetype": "text/x-python",
   "name": "python",
   "nbconvert_exporter": "python",
   "pygments_lexer": "ipython3",
   "version": "3.9.13"
  },
  "toc": {
   "base_numbering": 1,
   "nav_menu": {},
   "number_sections": true,
   "sideBar": true,
   "skip_h1_title": false,
   "title_cell": "Table of Contents",
   "title_sidebar": "Contents",
   "toc_cell": false,
   "toc_position": {
    "height": "calc(100% - 180px)",
    "left": "10px",
    "top": "150px",
    "width": "451.7646789550781px"
   },
   "toc_section_display": true,
   "toc_window_display": true
  }
 },
 "nbformat": 4,
 "nbformat_minor": 5
}
