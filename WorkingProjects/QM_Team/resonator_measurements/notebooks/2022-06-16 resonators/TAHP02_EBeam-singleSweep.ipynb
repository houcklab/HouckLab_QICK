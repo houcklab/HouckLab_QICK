{
 "cells": [
  {
   "cell_type": "markdown",
   "id": "325e2bf8",
   "metadata": {},
   "source": [
    "# Imports and initializations"
   ]
  },
  {
   "cell_type": "code",
   "execution_count": 3,
   "id": "3077acd9",
   "metadata": {},
   "outputs": [
    {
     "ename": "ModuleNotFoundError",
     "evalue": "No module named 'Pyro4'",
     "output_type": "error",
     "traceback": [
      "\u001b[1;31m---------------------------------------------------------------------------\u001b[0m",
      "\u001b[1;31mModuleNotFoundError\u001b[0m                       Traceback (most recent call last)",
      "\u001b[1;32m~\\AppData\\Local\\Temp\\ipykernel_17072\\472325338.py\u001b[0m in \u001b[0;36m<module>\u001b[1;34m\u001b[0m\n\u001b[0;32m      4\u001b[0m \u001b[0msys\u001b[0m\u001b[1;33m.\u001b[0m\u001b[0mpath\u001b[0m\u001b[1;33m.\u001b[0m\u001b[0mappend\u001b[0m\u001b[1;33m(\u001b[0m\u001b[0mos\u001b[0m\u001b[1;33m.\u001b[0m\u001b[0mgetcwd\u001b[0m\u001b[1;33m(\u001b[0m\u001b[1;33m)\u001b[0m \u001b[1;33m+\u001b[0m \u001b[1;34m'/../../Client_modules/'\u001b[0m\u001b[1;33m)\u001b[0m\u001b[1;33m\u001b[0m\u001b[1;33m\u001b[0m\u001b[0m\n\u001b[0;32m      5\u001b[0m \u001b[1;33m\u001b[0m\u001b[0m\n\u001b[1;32m----> 6\u001b[1;33m \u001b[1;32mimport\u001b[0m \u001b[0mmResSweep\u001b[0m\u001b[1;33m\u001b[0m\u001b[1;33m\u001b[0m\u001b[0m\n\u001b[0m\u001b[0;32m      7\u001b[0m \u001b[1;32mfrom\u001b[0m \u001b[0msocProxy\u001b[0m \u001b[1;32mimport\u001b[0m \u001b[0mmakeProxy\u001b[0m\u001b[1;33m\u001b[0m\u001b[1;33m\u001b[0m\u001b[0m\n\u001b[0;32m      8\u001b[0m \u001b[1;32mimport\u001b[0m \u001b[0mh5py\u001b[0m\u001b[1;33m\u001b[0m\u001b[1;33m\u001b[0m\u001b[0m\n",
      "\u001b[1;32m~\\Documents\\GitHub\\ZCU216\\res_dev\\notebooks\\2022-06-16 resonators/../../Client_modules\\mResSweep.py\u001b[0m in \u001b[0;36m<module>\u001b[1;34m\u001b[0m\n\u001b[0;32m      1\u001b[0m \u001b[1;32mimport\u001b[0m \u001b[0mrandom\u001b[0m\u001b[1;33m\u001b[0m\u001b[1;33m\u001b[0m\u001b[0m\n\u001b[0;32m      2\u001b[0m \u001b[1;33m\u001b[0m\u001b[0m\n\u001b[1;32m----> 3\u001b[1;33m \u001b[1;32mfrom\u001b[0m \u001b[0msocProxy\u001b[0m \u001b[1;32mimport\u001b[0m \u001b[0mmakeProxy\u001b[0m\u001b[1;33m\u001b[0m\u001b[1;33m\u001b[0m\u001b[0m\n\u001b[0m\u001b[0;32m      4\u001b[0m \u001b[1;32mimport\u001b[0m \u001b[0mmatplotlib\u001b[0m\u001b[1;33m.\u001b[0m\u001b[0mpyplot\u001b[0m \u001b[1;32mas\u001b[0m \u001b[0mplt\u001b[0m\u001b[1;33m\u001b[0m\u001b[1;33m\u001b[0m\u001b[0m\n\u001b[0;32m      5\u001b[0m \u001b[1;32mimport\u001b[0m \u001b[0mnumpy\u001b[0m \u001b[1;32mas\u001b[0m \u001b[0mnp\u001b[0m\u001b[1;33m\u001b[0m\u001b[1;33m\u001b[0m\u001b[0m\n",
      "\u001b[1;32m~\\Documents\\GitHub\\ZCU216\\res_dev\\notebooks\\2022-06-16 resonators/../../Client_modules\\socProxy.py\u001b[0m in \u001b[0;36m<module>\u001b[1;34m\u001b[0m\n\u001b[1;32m----> 1\u001b[1;33m \u001b[1;32mimport\u001b[0m \u001b[0mPyro4\u001b[0m\u001b[1;33m\u001b[0m\u001b[1;33m\u001b[0m\u001b[0m\n\u001b[0m\u001b[0;32m      2\u001b[0m \u001b[1;32mfrom\u001b[0m \u001b[0mqick\u001b[0m \u001b[1;32mimport\u001b[0m \u001b[0mQickConfig\u001b[0m\u001b[1;33m\u001b[0m\u001b[1;33m\u001b[0m\u001b[0m\n\u001b[0;32m      3\u001b[0m \u001b[1;33m\u001b[0m\u001b[0m\n\u001b[0;32m      4\u001b[0m \u001b[1;32mdef\u001b[0m \u001b[0mmakeProxy\u001b[0m\u001b[1;33m(\u001b[0m\u001b[0mIP\u001b[0m\u001b[1;33m)\u001b[0m\u001b[1;33m:\u001b[0m\u001b[1;33m\u001b[0m\u001b[1;33m\u001b[0m\u001b[0m\n\u001b[0;32m      5\u001b[0m     \u001b[0mPyro4\u001b[0m\u001b[1;33m.\u001b[0m\u001b[0mconfig\u001b[0m\u001b[1;33m.\u001b[0m\u001b[0mSERIALIZER\u001b[0m \u001b[1;33m=\u001b[0m \u001b[1;34m\"pickle\"\u001b[0m\u001b[1;33m\u001b[0m\u001b[1;33m\u001b[0m\u001b[0m\n",
      "\u001b[1;31mModuleNotFoundError\u001b[0m: No module named 'Pyro4'"
     ]
    }
   ],
   "source": [
    "# add our custom modules to the python import path\n",
    "import sys\n",
    "import os\n",
    "sys.path.append(os.getcwd() + '/../../Client_modules/')\n",
    "\n",
    "import mResSweep\n",
    "from socProxy import makeProxy\n",
    "import h5py\n",
    "from PythonDrivers.control_atten import setatten\n",
    "# import PythonDrivers.YOKOGS200 as YOKOGS200\n",
    "%matplotlib qt\n",
    "import matplotlib.pyplot as plt\n",
    "savePath = r'Z:\\t1Team\\Data\\TAHP02_EBeam_03_20_23\\RFSOC'\n",
    "\n",
    "# Python 3.7\n",
    "# os.environ['PATH'] = os.getcwd() + '\\\\PythonDrivers' + os.pathsep + os.environ['PATH']\n",
    "# Python 3.8 and newer\n",
    "os.add_dll_directory(os.getcwd() + '/../../Client_modules/PythonDrivers')"
   ]
  },
  {
   "cell_type": "code",
   "execution_count": 2,
   "id": "54836238",
   "metadata": {},
   "outputs": [
    {
     "ename": "NameError",
     "evalue": "name 'makeProxy' is not defined",
     "output_type": "error",
     "traceback": [
      "\u001b[1;31m---------------------------------------------------------------------------\u001b[0m",
      "\u001b[1;31mNameError\u001b[0m                                 Traceback (most recent call last)",
      "\u001b[1;32m~\\AppData\\Local\\Temp\\ipykernel_17072\\3700407914.py\u001b[0m in \u001b[0;36m<module>\u001b[1;34m\u001b[0m\n\u001b[0;32m      1\u001b[0m \u001b[1;31m# create proxy to ZCU216 board\u001b[0m\u001b[1;33m\u001b[0m\u001b[1;33m\u001b[0m\u001b[0m\n\u001b[1;32m----> 2\u001b[1;33m \u001b[0msoc\u001b[0m\u001b[1;33m,\u001b[0m \u001b[0msoccfg\u001b[0m \u001b[1;33m=\u001b[0m \u001b[0mmakeProxy\u001b[0m\u001b[1;33m(\u001b[0m\u001b[1;34m'192.168.1.104'\u001b[0m\u001b[1;33m)\u001b[0m\u001b[1;33m\u001b[0m\u001b[1;33m\u001b[0m\u001b[0m\n\u001b[0m\u001b[0;32m      3\u001b[0m \u001b[0mprint\u001b[0m\u001b[1;33m(\u001b[0m\u001b[0msoccfg\u001b[0m\u001b[1;33m)\u001b[0m\u001b[1;33m\u001b[0m\u001b[1;33m\u001b[0m\u001b[0m\n",
      "\u001b[1;31mNameError\u001b[0m: name 'makeProxy' is not defined"
     ]
    }
   ],
   "source": [
    "# create proxy to ZCU216 board\n",
    "soc, soccfg = makeProxy('192.168.1.104')\n",
    "print(soccfg)"
   ]
  },
  {
   "cell_type": "markdown",
   "id": "3064a572",
   "metadata": {},
   "source": [
    "# Define sweep parameters"
   ]
  },
  {
   "cell_type": "code",
   "execution_count": 3,
   "id": "c9d5c359",
   "metadata": {
    "collapsed": true
   },
   "outputs": [],
   "source": [
    "inputDict = {}\n",
    "inputDict['LO_f'] = 5e3  # local oscillator frequency\n",
    "\n",
    "# for spectrum analyzer shots\n",
    "# inputDict['mixerCenter_f'] = 1700  # center frequency for the mixer\n",
    "# inputDict['span_f'] = 0  # frequency span to sweep over. The same for all resonators\n",
    "# inputDict['res_f'] = [5.9e3, 6.411658e3, 7.05506e3, 7.5e3]  # center frequencies of the resonators\n",
    "\n",
    "#frequencies for large span measurement\n",
    "# inputDict['LO_f'] = 0e3  # local oscillator frequency\n",
    "# inputDict['mixerCenter_f'] = 1.5e3  # center frequency for the mixer\n",
    "# inputDict['span_f'] = 1000  # frequency span to sweep over. The same for all resonators\n",
    "# inputDict['res_f'] = [1.5e3]  # center frequencies of the resonators\n",
    "\n",
    "# define frequencies\n",
    "inputDict['mixerCenter_f'] = 1700  # center frequency for the mixer\n",
    "inputDict['span_f'] = 0.  # frequency span to sweep over. The same for all resonators\n",
    "# inputDict['res_f'] = [6.1477131e3, 6.5812862e3]  # center frequencies of the resonators\n",
    "inputDict['res_f'] = [6.1577131e3, 6.6012862e3]  # center frequencies of the resonators\n",
    "# inputDict['res_f'] = [7e3]  # center frequencies of the resonators\n",
    "\n",
    "# define numbers of points\n",
    "inputDict['n_expts'] = 3001  # number of points along the frequency axis\n",
    "inputDict['n_rounds'] = 100  # number of times to sweep along the frequency axis\n",
    "inputDict['n_reps'] = 200  # number of repetitions to take at each frequency point\n",
    "\n",
    "# timing. Units are clock cycles, but converted from us\n",
    "inputDict['ring_up_time'] = 500  # time waiting for the resonator to ring up at the start of each sweep\n",
    "inputDict['ring_between_time'] = 50  # time waiting for the resonator to ring up at the start of each sweep\n",
    "inputDict['readout_length'] = 1000  # time to average over\n",
    "inputDict['adc_trig_offset'] = 0.1  # time after the DAC starts the final steady pulse before the ADC starts it's read\n",
    "\n",
    "# power\n",
    "inputDict['basePower'] = 0 # dBm\n",
    "inputDict['gain'] = [1, 0.7]\n",
    "# inputDict['gain'] = [1]"
   ]
  },
  {
   "cell_type": "markdown",
   "id": "66726803",
   "metadata": {},
   "source": [
    "# Acquire data"
   ]
  },
  {
   "cell_type": "code",
   "execution_count": null,
   "id": "e71d7a7b",
   "metadata": {
    "collapsed": true
   },
   "outputs": [],
   "source": [
    "# Acquire\n",
    "inputDict['power'] = inputDict['basePower']\n",
    "Instance = mResSweep.ResSweep(path=savePath, prefix='data', inputDict=inputDict, soc=soc, soccfg=soccfg)\n",
    "data = mResSweep.ResSweep.acquire(Instance)\n",
    "# mResSweep.ResSweep.save_data(Instance, data)"
   ]
  },
  {
   "cell_type": "markdown",
   "id": "b7eda7fa",
   "metadata": {},
   "source": [
    "# display results"
   ]
  },
  {
   "cell_type": "code",
   "execution_count": null,
   "id": "9d6eb96b",
   "metadata": {
    "collapsed": true
   },
   "outputs": [],
   "source": [
    "mResSweep.ResSweep.display(Instance, data)"
   ]
  },
  {
   "cell_type": "code",
   "execution_count": null,
   "id": "4d272b77",
   "metadata": {
    "collapsed": true
   },
   "outputs": [],
   "source": [
    "print(Instance.data['data']['temperature'])"
   ]
  },
  {
   "cell_type": "code",
   "execution_count": null,
   "id": "a8034b9c",
   "metadata": {
    "collapsed": true
   },
   "outputs": [],
   "source": []
  },
  {
   "cell_type": "code",
   "execution_count": 8,
   "id": "ac72d702",
   "metadata": {},
   "outputs": [
    {
     "name": "stderr",
     "output_type": "stream",
     "text": [
      "C:\\Users\\my\\Documents\\GitHub\\ZCU216_Russell\\res_dev\\notebooks\\2022-06-16 resonators/../../Client_modules\\mResSweep.py:256: UserWarning: Temperature log is 1288.3 minutes out of date. Make sure you are outputting the log file from the temperature PC\n",
      "  warnings.warn(\n"
     ]
    },
    {
     "name": "stdout",
     "output_type": "stream",
     "text": [
      "Pulse frequencies are: [-542.28690033  -98.71380072] MHz\n",
      "Frequencies out are: [1157.7131, 1601.2861999999996] MHz\n",
      "start decimated\n",
      "decimated done\n"
     ]
    }
   ],
   "source": [
    "# Acquire\n",
    "inputDict['power'] = inputDict['basePower']\n",
    "Instance = mResSweep.ResSweep(path=savePath, prefix='data', inputDict=inputDict, soc=soc, soccfg=soccfg)\n",
    "data = mResSweep.ResSweep.acquire_decimated(Instance)\n",
    "mResSweep.ResSweep.display_decimated(Instance, data)"
   ]
  },
  {
   "cell_type": "code",
   "execution_count": null,
   "id": "df9d0708",
   "metadata": {
    "collapsed": true
   },
   "outputs": [],
   "source": []
  }
 ],
 "metadata": {
  "kernelspec": {
   "display_name": "Python 3 (ipykernel)",
   "language": "python",
   "name": "python3"
  },
  "language_info": {
   "codemirror_mode": {
    "name": "ipython",
    "version": 3
   },
   "file_extension": ".py",
   "mimetype": "text/x-python",
   "name": "python",
   "nbconvert_exporter": "python",
   "pygments_lexer": "ipython3",
   "version": "3.9.13"
  },
  "toc": {
   "base_numbering": 1,
   "nav_menu": {},
   "number_sections": true,
   "sideBar": true,
   "skip_h1_title": false,
   "title_cell": "Table of Contents",
   "title_sidebar": "Contents",
   "toc_cell": false,
   "toc_position": {
    "height": "calc(100% - 180px)",
    "left": "10px",
    "top": "150px",
    "width": "451.7646789550781px"
   },
   "toc_section_display": true,
   "toc_window_display": true
  }
 },
 "nbformat": 4,
 "nbformat_minor": 5
}
