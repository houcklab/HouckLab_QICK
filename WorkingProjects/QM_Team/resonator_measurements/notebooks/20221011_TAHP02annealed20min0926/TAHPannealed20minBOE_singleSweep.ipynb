{
 "cells": [
  {
   "cell_type": "markdown",
   "id": "dfe6800e",
   "metadata": {},
   "source": [
    "# Imports and initializations"
   ]
  },
  {
   "cell_type": "code",
   "execution_count": 4,
   "id": "f15e3b27",
   "metadata": {},
   "outputs": [
    {
     "data": {
      "text/plain": [
       "<AddedDllDirectory('C:\\\\Users\\\\my\\\\Documents\\\\GitHub\\\\ZCU216_Russell\\\\res_dev\\\\notebooks\\\\20221011_TAHP02annealed20min0926/../../Client_modules/PythonDrivers')>"
      ]
     },
     "execution_count": 4,
     "metadata": {},
     "output_type": "execute_result"
    }
   ],
   "source": [
    "# add our custom modules to the python import path\n",
    "import sys\n",
    "import os\n",
    "sys.path.append(os.getcwd() + '/../../Client_modules/')\n",
    "\n",
    "import mResSweep\n",
    "from socProxy import makeProxy\n",
    "import h5py\n",
    "from PythonDrivers.control_atten import setatten\n",
    "# import PythonDrivers.YOKOGS200 as YOKOGS200\n",
    "%matplotlib qt\n",
    "import matplotlib.pyplot as plt\n",
    "savePath = r'Z:\\t1Team\\Data\\20221014_TAHP02_annealed20min0926\\20221011TAHP02Annealed20min_RFSOC\\RFSOC'\n",
    "\n",
    "# Python 3.7\n",
    "# os.environ['PATH'] = os.getcwd() + '\\\\PythonDrivers' + os.pathsep + os.environ['PATH']\n",
    "# Python 3.8 and newer\n",
    "os.add_dll_directory(os.getcwd() + '/../../Client_modules/PythonDrivers')"
   ]
  },
  {
   "cell_type": "code",
   "execution_count": 5,
   "id": "a167a9f0",
   "metadata": {},
   "outputs": [
    {
     "name": "stdout",
     "output_type": "stream",
     "text": [
      "Pyro.NameServer PYRO:Pyro.NameServer@192.168.1.103:8888\n",
      "myqick PYRO:obj_b73757b5e58840e791e7c7bb4ef47013@192.168.1.103:38549\n",
      "\n",
      "QICK configuration:\n",
      "\n",
      "\tBoard: ZCU216\n",
      "\n",
      "\tGlobal clocks (MHz): tProcessor 349.997, RF reference 245.760\n",
      "\n",
      "\t7 signal generator channels:\n",
      "\t0:\taxis_sg_int4_v1 - tProc output 0, switch ch 0, maxlen 4096\n",
      "\t\tDAC tile 2, ch 0, 16-bit DDS, fabric=430.080 MHz, fs=1720.320 MHz\n",
      "\t1:\taxis_sg_int4_v1 - tProc output 1, switch ch 1, maxlen 4096\n",
      "\t\tDAC tile 2, ch 1, 16-bit DDS, fabric=430.080 MHz, fs=1720.320 MHz\n",
      "\t2:\taxis_sg_int4_v1 - tProc output 2, switch ch 2, maxlen 4096\n",
      "\t\tDAC tile 2, ch 2, 16-bit DDS, fabric=430.080 MHz, fs=1720.320 MHz\n",
      "\t3:\taxis_sg_int4_v1 - tProc output 3, switch ch 3, maxlen 4096\n",
      "\t\tDAC tile 2, ch 3, 16-bit DDS, fabric=430.080 MHz, fs=1720.320 MHz\n",
      "\t4:\taxis_signal_gen_v6 - tProc output 4, switch ch 4, maxlen 65536\n",
      "\t\tDAC tile 3, ch 0, 32-bit DDS, fabric=599.040 MHz, fs=9584.640 MHz\n",
      "\t5:\taxis_signal_gen_v6 - tProc output 5, switch ch 5, maxlen 65536\n",
      "\t\tDAC tile 3, ch 1, 32-bit DDS, fabric=599.040 MHz, fs=9584.640 MHz\n",
      "\t6:\taxis_sg_mux4_v2 - tProc output 6, switch ch -1, maxlen 0\n",
      "\t\tDAC tile 0, ch 0, 32-bit DDS, fabric=430.080 MHz, fs=1720.320 MHz\n",
      "\n",
      "\t4 constant-IQ outputs:\n",
      "\t0:\tDAC tile 1, ch 0, fs=6881.280 MHz\n",
      "\t1:\tDAC tile 1, ch 1, fs=6881.280 MHz\n",
      "\t2:\tDAC tile 1, ch 2, fs=6881.280 MHz\n",
      "\t3:\tDAC tile 1, ch 3, fs=6881.280 MHz\n",
      "\n",
      "\t4 readout channels:\n",
      "\t0:\tADC tile 2, ch 0, 35-bit DDS, fabric=307.200 MHz, fs=2457.600 MHz\n",
      "\t\tmaxlen 1024 (avg) 1024 (decimated), trigger bit 4, tProc input 0\n",
      "\t1:\tADC tile 2, ch 0, 35-bit DDS, fabric=307.200 MHz, fs=2457.600 MHz\n",
      "\t\tmaxlen 1024 (avg) 1024 (decimated), trigger bit 5, tProc input 1\n",
      "\t2:\tADC tile 2, ch 0, 35-bit DDS, fabric=307.200 MHz, fs=2457.600 MHz\n",
      "\t\tmaxlen 1024 (avg) 1024 (decimated), trigger bit 6, tProc input 2\n",
      "\t3:\tADC tile 2, ch 0, 35-bit DDS, fabric=307.200 MHz, fs=2457.600 MHz\n",
      "\t\tmaxlen 1024 (avg) 1024 (decimated), trigger bit 7, tProc input 3\n",
      "\n",
      "\t11 DACs:\n",
      "\t\tDAC tile 0, ch 0 is 0_228, on JHC1\n",
      "\t\tDAC tile 1, ch 0 is 0_229, on JHC1\n",
      "\t\tDAC tile 1, ch 1 is 1_229, on JHC2\n",
      "\t\tDAC tile 1, ch 2 is 2_229, on JHC1\n",
      "\t\tDAC tile 1, ch 3 is 3_229, on JHC2\n",
      "\t\tDAC tile 2, ch 0 is 0_230, on JHC3\n",
      "\t\tDAC tile 2, ch 1 is 1_230, on JHC4\n",
      "\t\tDAC tile 2, ch 2 is 2_230, on JHC3\n",
      "\t\tDAC tile 2, ch 3 is 3_230, on JHC4\n",
      "\t\tDAC tile 3, ch 0 is 0_231, on JHC3\n",
      "\t\tDAC tile 3, ch 1 is 1_231, on JHC4\n",
      "\n",
      "\t1 ADCs:\n",
      "\t\tADC tile 2, ch 0 is 0_226, on JHC7\n",
      "\n",
      "\t4 digital output pins (tProc output 7):\n",
      "\t0:\tPMOD0_0_LS\n",
      "\t1:\tPMOD0_1_LS\n",
      "\t2:\tPMOD0_2_LS\n",
      "\t3:\tPMOD0_3_LS\n",
      "\n",
      "\ttProc: 1024 words program memory, 1024 words data memory\n",
      "\t\texternal start pin: PMOD1_0_LS\n"
     ]
    }
   ],
   "source": [
    "# create proxy to ZCU216 board\n",
    "soc, soccfg = makeProxy('192.168.1.103')\n",
    "print(soccfg)"
   ]
  },
  {
   "cell_type": "markdown",
   "id": "6047c54d",
   "metadata": {},
   "source": [
    "# Define sweep parameters"
   ]
  },
  {
   "cell_type": "code",
   "execution_count": 6,
   "id": "7d64371c",
   "metadata": {},
   "outputs": [],
   "source": [
    "inputDict = {}\n",
    "inputDict['LO_f'] = 5e3  # local oscillator frequency\n",
    "\n",
    "# define frequencies\n",
    "#inputDict['mixerCenter_f'] = 3000  # center frequency for the mixer\n",
    "inputDict['span_f'] = 0  # frequency span to sweep over. The same for all resonators\n",
    "# inputDict['res_f'] = [5.965396e3, 6.267105e3, 6.83643e3, 7.205156e3]\n",
    "\n",
    "inputDict['mixerCenter_f'] = 2200  # center frequency for the mixer\n",
    "#inputDict['res_f'] = [5.95861e3, 6.2618865e3, 6.830564e3, 7.1839206e3]\n",
    "#inputDict['res_f'] = [6.54095e3,  7.396327e3, 7.71271325e3, 8.008404e3]\n",
    "#inputDict['res_f'] = [6.56095e3,  7.416327e3, 7.71371325e3, 8.028404e3]\n",
    "\n",
    "inputDict['res_f'] = [7e3]  # center frequencies of the resonators\n",
    "\n",
    "# define numbers of points\n",
    "inputDict['n_expts'] = 1  # number of points along the frequency axis\n",
    "inputDict['n_rounds'] = 1  # number of times to sweep along the frequency axis\n",
    "inputDict['n_reps'] = 2**31  # number of repetitions to take at each frequency point\n",
    "inputDict['n_reps'] = 1\n",
    "\n",
    "# timing. Units are clock cycles, but converted from us\n",
    "inputDict['ring_up_time'] = 500  # time waiting for the resonator to ring up at the start of each sweep\n",
    "inputDict['ring_between_time'] = 50  # time waiting for the resonator to ring up at the start of each sweep\n",
    "inputDict['readout_length'] = 1000  # time to average over\n",
    "inputDict['adc_trig_offset'] = 0.1  # time after the DAC starts the final steady pulse before the ADC starts it's read\n",
    "\n",
    "# power\n",
    "inputDict['basePower'] = -10 # dBm\n",
    "inputDict['gain'] = [1]\n",
    "# inputDict['gain'] = [1]"
   ]
  },
  {
   "cell_type": "markdown",
   "id": "c8d60d91",
   "metadata": {},
   "source": [
    "# Acquire data"
   ]
  },
  {
   "cell_type": "code",
   "execution_count": 7,
   "id": "fcd15ef0",
   "metadata": {},
   "outputs": [
    {
     "name": "stderr",
     "output_type": "stream",
     "text": [
      "C:\\Users\\my\\Documents\\GitHub\\ZCU216_Russell\\res_dev\\notebooks\\20221011_TAHP02annealed20min0926/../../Client_modules\\mResSweep.py:257: UserWarning: Temperature log is 86710.6 minutes out of date. Make sure you are outputting the log file from the temperature PC\n",
      "  warnings.warn(\n",
      "With the given readout length there is a possibility that the sum buffer will overflow giving invalid results.\n"
     ]
    },
    {
     "name": "stdout",
     "output_type": "stream",
     "text": [
      "Pulse frequencies are: [-200.0000001] MHz\n",
      "Frequencies out are: [2000.0] MHz\n"
     ]
    },
    {
     "data": {
      "application/vnd.jupyter.widget-view+json": {
       "model_id": "bb275346c7f54d33b225ee502bad86c7",
       "version_major": 2,
       "version_minor": 0
      },
      "text/plain": [
       "  0%|          | 0/1 [00:00<?, ?it/s]"
      ]
     },
     "metadata": {},
     "output_type": "display_data"
    },
    {
     "name": "stderr",
     "output_type": "stream",
     "text": [
      "With the given readout length there is a possibility that the sum buffer will overflow giving invalid results.\n"
     ]
    },
    {
     "name": "stdout",
     "output_type": "stream",
     "text": [
      "(0,)\n",
      "(2, 1, 1)\n"
     ]
    },
    {
     "ename": "IndexError",
     "evalue": "list index out of range",
     "output_type": "error",
     "traceback": [
      "\u001b[1;31m---------------------------------------------------------------------------\u001b[0m",
      "\u001b[1;31mIndexError\u001b[0m                                Traceback (most recent call last)",
      "Input \u001b[1;32mIn [7]\u001b[0m, in \u001b[0;36m<cell line: 4>\u001b[1;34m()\u001b[0m\n\u001b[0;32m      2\u001b[0m inputDict[\u001b[38;5;124m'\u001b[39m\u001b[38;5;124mpower\u001b[39m\u001b[38;5;124m'\u001b[39m] \u001b[38;5;241m=\u001b[39m inputDict[\u001b[38;5;124m'\u001b[39m\u001b[38;5;124mbasePower\u001b[39m\u001b[38;5;124m'\u001b[39m]\n\u001b[0;32m      3\u001b[0m Instance \u001b[38;5;241m=\u001b[39m mResSweep\u001b[38;5;241m.\u001b[39mResSweep(path\u001b[38;5;241m=\u001b[39msavePath, prefix\u001b[38;5;241m=\u001b[39m\u001b[38;5;124m'\u001b[39m\u001b[38;5;124mdata\u001b[39m\u001b[38;5;124m'\u001b[39m, inputDict\u001b[38;5;241m=\u001b[39minputDict, soc\u001b[38;5;241m=\u001b[39msoc, soccfg\u001b[38;5;241m=\u001b[39msoccfg)\n\u001b[1;32m----> 4\u001b[0m data \u001b[38;5;241m=\u001b[39m \u001b[43mmResSweep\u001b[49m\u001b[38;5;241;43m.\u001b[39;49m\u001b[43mResSweep\u001b[49m\u001b[38;5;241;43m.\u001b[39;49m\u001b[43macquire\u001b[49m\u001b[43m(\u001b[49m\u001b[43mInstance\u001b[49m\u001b[43m)\u001b[49m\n",
      "File \u001b[1;32m~\\Documents\\GitHub\\ZCU216_Russell\\res_dev\\notebooks\\20221011_TAHP02annealed20min0926/../../Client_modules\\mResSweep.py:205\u001b[0m, in \u001b[0;36mResSweep.acquire\u001b[1;34m(self, progress, debug)\u001b[0m\n\u001b[0;32m    203\u001b[0m     \u001b[38;5;66;03m# compensate for non-zero centered I and Q values\u001b[39;00m\n\u001b[0;32m    204\u001b[0m     \u001b[38;5;28;01mfor\u001b[39;00m i \u001b[38;5;129;01min\u001b[39;00m \u001b[38;5;28mrange\u001b[39m(\u001b[38;5;28mlen\u001b[39m(\u001b[38;5;28mself\u001b[39m\u001b[38;5;241m.\u001b[39mcfg[\u001b[38;5;124m'\u001b[39m\u001b[38;5;124mro_chs\u001b[39m\u001b[38;5;124m'\u001b[39m])):\n\u001b[1;32m--> 205\u001b[0m         \u001b[43miqListRound\u001b[49m\u001b[43m[\u001b[49m\u001b[43mfInd\u001b[49m\u001b[43m]\u001b[49m\u001b[43m[\u001b[49m\u001b[38;5;241;43m0\u001b[39;49m\u001b[43m]\u001b[49m[i] \u001b[38;5;241m+\u001b[39m\u001b[38;5;241m=\u001b[39m \u001b[38;5;28mself\u001b[39m\u001b[38;5;241m.\u001b[39mIQoffset\n\u001b[0;32m    206\u001b[0m         iqListRound[fInd][\u001b[38;5;241m1\u001b[39m][i] \u001b[38;5;241m+\u001b[39m\u001b[38;5;241m=\u001b[39m \u001b[38;5;28mself\u001b[39m\u001b[38;5;241m.\u001b[39mIQoffset\n\u001b[0;32m    207\u001b[0m     \u001b[38;5;66;03m# diList[fInd] = prog.di_buf\u001b[39;00m\n\u001b[0;32m    208\u001b[0m     \u001b[38;5;66;03m# dqList[fInd] = prog.dq_buf\u001b[39;00m\n\u001b[0;32m    209\u001b[0m     \u001b[38;5;66;03m# print('Frequency {0}, time {1:0.3f} s'.format(fInd, time.time() - freqStart))\u001b[39;00m\n\u001b[0;32m    210\u001b[0m \n\u001b[0;32m    211\u001b[0m \u001b[38;5;66;03m# add the frequencies to older measurements\u001b[39;00m\n",
      "\u001b[1;31mIndexError\u001b[0m: list index out of range"
     ]
    }
   ],
   "source": [
    "# Acquire\n",
    "inputDict['power'] = inputDict['basePower']\n",
    "Instance = mResSweep.ResSweep(path=savePath, prefix='data', inputDict=inputDict, soc=soc, soccfg=soccfg)\n",
    "data = mResSweep.ResSweep.acquire(Instance)\n",
    "# mResSweep.ResSweep.save_data(Instance, data)"
   ]
  },
  {
   "cell_type": "markdown",
   "id": "3938b0d2",
   "metadata": {},
   "source": [
    "# display results"
   ]
  },
  {
   "cell_type": "code",
   "execution_count": null,
   "id": "ec1653c5",
   "metadata": {},
   "outputs": [],
   "source": [
    "mResSweep.ResSweep.display(Instance, data)"
   ]
  },
  {
   "cell_type": "code",
   "execution_count": null,
   "id": "fa7cf2d7",
   "metadata": {},
   "outputs": [],
   "source": [
    "print(Instance.data['data']['temperature'])"
   ]
  },
  {
   "cell_type": "code",
   "execution_count": null,
   "id": "241e8734",
   "metadata": {},
   "outputs": [],
   "source": []
  },
  {
   "cell_type": "code",
   "execution_count": null,
   "id": "03b15c46",
   "metadata": {},
   "outputs": [],
   "source": [
    "# Acquire\n",
    "inputDict['power'] = inputDict['basePower']\n",
    "Instance = mResSweep.ResSweep(path=savePath, prefix='data', inputDict=inputDict, soc=soc, soccfg=soccfg)\n",
    "data = mResSweep.ResSweep.acquire_decimated(Instance)\n",
    "mResSweep.ResSweep.display_decimated(Instance, data)"
   ]
  },
  {
   "cell_type": "code",
   "execution_count": null,
   "id": "9cbaa35a",
   "metadata": {},
   "outputs": [],
   "source": []
  }
 ],
 "metadata": {
  "kernelspec": {
   "display_name": "Python 3 (ipykernel)",
   "language": "python",
   "name": "python3"
  },
  "language_info": {
   "codemirror_mode": {
    "name": "ipython",
    "version": 3
   },
   "file_extension": ".py",
   "mimetype": "text/x-python",
   "name": "python",
   "nbconvert_exporter": "python",
   "pygments_lexer": "ipython3",
   "version": "3.10.4"
  },
  "toc": {
   "base_numbering": 1,
   "nav_menu": {},
   "number_sections": true,
   "sideBar": true,
   "skip_h1_title": false,
   "title_cell": "Table of Contents",
   "title_sidebar": "Contents",
   "toc_cell": false,
   "toc_position": {
    "height": "calc(100% - 180px)",
    "left": "10px",
    "top": "150px",
    "width": "451.7646789550781px"
   },
   "toc_section_display": true,
   "toc_window_display": true
  }
 },
 "nbformat": 4,
 "nbformat_minor": 5
}
