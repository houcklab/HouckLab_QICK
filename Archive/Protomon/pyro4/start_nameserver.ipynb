{
 "cells": [
  {
   "cell_type": "code",
   "execution_count": null,
   "id": "119ea298",
   "metadata": {},
   "outputs": [
    {
     "name": "stdout",
     "output_type": "stream",
     "text": [
      "Broadcast server running on 0.0.0.0:9091\r\n",
      "NS running on 192.168.1.121:8888 (192.168.1.121)\r\n",
      "Warning: HMAC key not set. Anyone can connect to this server!\r\n",
      "URI = PYRO:Pyro.NameServer@192.168.1.121:8888\r\n"
     ]
    }
   ],
   "source": [
    "!PYRO_SERIALIZERS_ACCEPTED=pickle PYRO_PICKLE_PROTOCOL_VERSION=4 pyro4-ns -n 192.168.1.121 -p 8888"
   ]
  }
 ],
 "metadata": {
  "kernelspec": {
   "display_name": "Python 3",
   "language": "python",
   "name": "python3"
  },
  "language_info": {
   "codemirror_mode": {
    "name": "ipython",
    "version": 3
   },
   "file_extension": ".py",
   "mimetype": "text/x-python",
   "name": "python",
   "nbconvert_exporter": "python",
   "pygments_lexer": "ipython3",
   "version": "3.8.2"
  }
 },
 "nbformat": 4,
 "nbformat_minor": 5
}
