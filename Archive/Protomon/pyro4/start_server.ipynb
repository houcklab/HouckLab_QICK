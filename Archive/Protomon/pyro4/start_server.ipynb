{
 "cells": [
  {
   "cell_type": "code",
   "execution_count": null,
   "id": "e095ebf5",
   "metadata": {},
   "outputs": [
    {
     "data": {
      "application/javascript": [
       "\n",
       "try {\n",
       "require(['notebook/js/codecell'], function(codecell) {\n",
       "  codecell.CodeCell.options_default.highlight_modes[\n",
       "      'magic_text/x-csrc'] = {'reg':[/^%%microblaze/]};\n",
       "  Jupyter.notebook.events.one('kernel_ready.Kernel', function(){\n",
       "      Jupyter.notebook.get_cells().map(function(cell){\n",
       "          if (cell.cell_type == 'code'){ cell.auto_highlight(); } }) ;\n",
       "  });\n",
       "});\n",
       "} catch (e) {};\n"
      ]
     },
     "metadata": {},
     "output_type": "display_data"
    },
    {
     "data": {
      "application/javascript": [
       "\n",
       "try {\n",
       "require(['notebook/js/codecell'], function(codecell) {\n",
       "  codecell.CodeCell.options_default.highlight_modes[\n",
       "      'magic_text/x-csrc'] = {'reg':[/^%%pybind11/]};\n",
       "  Jupyter.notebook.events.one('kernel_ready.Kernel', function(){\n",
       "      Jupyter.notebook.get_cells().map(function(cell){\n",
       "          if (cell.cell_type == 'code'){ cell.auto_highlight(); } }) ;\n",
       "  });\n",
       "});\n",
       "} catch (e) {};\n"
      ]
     },
     "metadata": {},
     "output_type": "display_data"
    },
    {
     "name": "stdout",
     "output_type": "stream",
     "text": [
      "looking for nameserver . . .\n",
      "found nameserver\n",
      "initialized QICK\n",
      "registered QICK\n",
      "registered member <qick.streamer.DataStreamer object at 0xffff7ae61a90>\n",
      "registered member <qick.qick.AxisTProc64x32_x8 object at 0xffff7add90a0>\n",
      "starting daemon\n"
     ]
    }
   ],
   "source": [
    "import Pyro4\n",
    "from qick import QickSoc\n",
    "\n",
    "ns_host = \"192.168.1.121\"\n",
    "ns_port = 8888\n",
    "server_name = \"myqick\"\n",
    "\n",
    "print(\"looking for nameserver . . .\")\n",
    "Pyro4.config.REQUIRE_EXPOSE = False\n",
    "Pyro4.config.SERIALIZER = \"pickle\"\n",
    "Pyro4.config.SERIALIZERS_ACCEPTED=set(['pickle'])\n",
    "Pyro4.config.PICKLE_PROTOCOL_VERSION=4\n",
    "ns = Pyro4.locateNS(host=ns_host, port=ns_port)\n",
    "print(\"found nameserver\")\n",
    "\n",
    "# if we have multiple network interfaces, we want to register the daemon using the IP address that faces the nameserver\n",
    "host = Pyro4.socketutil.getInterfaceAddress(ns._pyroUri.host)\n",
    "daemon = Pyro4.Daemon(host=host)\n",
    "\n",
    "# if you want to use a different firmware image or set some initialization options, you would do that here\n",
    "soc = QickSoc()\n",
    "print(\"initialized QICK\")\n",
    "\n",
    "# register the QickSoc in the daemon (so the daemon exposes the QickSoc over Pyro4)\n",
    "# and in the nameserver (so the client can find the QickSoc)\n",
    "ns.register(server_name, daemon.register(soc))\n",
    "print(\"registered QICK\")\n",
    "\n",
    "# register in the daemon all the objects we expose as properties of the QickSoc\n",
    "# we don't register them in the nameserver, since they are only meant to be accessed through the QickSoc proxy\n",
    "# https://pyro4.readthedocs.io/en/stable/servercode.html#autoproxying\n",
    "# https://github.com/irmen/Pyro4/blob/master/examples/autoproxy/server.py\n",
    "for obj in soc.autoproxy:\n",
    "    daemon.register(obj)\n",
    "    print(\"registered member \"+str(obj))\n",
    "    \n",
    "print(\"starting daemon\")\n",
    "daemon.requestLoop() # this will run forever until interrupted"
   ]
  },
  {
   "cell_type": "code",
   "execution_count": null,
   "id": "7953dcfc",
   "metadata": {},
   "outputs": [],
   "source": []
  }
 ],
 "metadata": {
  "kernelspec": {
   "display_name": "Python 3",
   "language": "python",
   "name": "python3"
  },
  "language_info": {
   "codemirror_mode": {
    "name": "ipython",
    "version": 3
   },
   "file_extension": ".py",
   "mimetype": "text/x-python",
   "name": "python",
   "nbconvert_exporter": "python",
   "pygments_lexer": "ipython3",
   "version": "3.8.2"
  }
 },
 "nbformat": 4,
 "nbformat_minor": 5
}
