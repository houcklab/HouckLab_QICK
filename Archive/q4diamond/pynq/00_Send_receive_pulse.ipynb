{
 "cells": [
  {
   "cell_type": "markdown",
   "metadata": {},
   "source": [
    "# <center> Sending and receiving a pulse demonstration\n",
    "\n",
    "### <center> In this demo you will send and receive a pulse in loopback to demonstrate control over the QICK. \n",
    "\n",
    "By modifying the <code> config </code> Python dictionary in the below notebook cell, you can change several variables:\n",
    "* The pulse length <code> length </code> in FPGA clock ticks (1 clock tick = 2.6 ns).\n",
    "* The readout buffer length <code> readout_length </code> in FPGA clock ticks.\n",
    "* The pulse envelope shape <code> pulse_style </code> (either <code> const </code> or <code> flat_top </code> or <code> arb </code>)\n",
    "* The pulse amplitude <code> pulse_gain </code> in DAC units.\n",
    "* The pulse frequency <code> pulse_freq </code> in MHz.\n",
    "* The readout \"time of flight\" <code> adc_trig_offset </code> in FPGA clock ticks.\n",
    "* The number of times you average the read <code> soft_avgs </code>"
   ]
  },
  {
   "cell_type": "code",
   "execution_count": 1,
   "metadata": {},
   "outputs": [
    {
     "data": {
      "application/javascript": [
       "\n",
       "try {\n",
       "require(['notebook/js/codecell'], function(codecell) {\n",
       "  codecell.CodeCell.options_default.highlight_modes[\n",
       "      'magic_text/x-csrc'] = {'reg':[/^%%microblaze/]};\n",
       "  Jupyter.notebook.events.one('kernel_ready.Kernel', function(){\n",
       "      Jupyter.notebook.get_cells().map(function(cell){\n",
       "          if (cell.cell_type == 'code'){ cell.auto_highlight(); } }) ;\n",
       "  });\n",
       "});\n",
       "} catch (e) {};\n"
      ]
     },
     "metadata": {},
     "output_type": "display_data"
    },
    {
     "data": {
      "application/javascript": [
       "\n",
       "try {\n",
       "require(['notebook/js/codecell'], function(codecell) {\n",
       "  codecell.CodeCell.options_default.highlight_modes[\n",
       "      'magic_text/x-csrc'] = {'reg':[/^%%pybind11/]};\n",
       "  Jupyter.notebook.events.one('kernel_ready.Kernel', function(){\n",
       "      Jupyter.notebook.get_cells().map(function(cell){\n",
       "          if (cell.cell_type == 'code'){ cell.auto_highlight(); } }) ;\n",
       "  });\n",
       "});\n",
       "} catch (e) {};\n"
      ]
     },
     "metadata": {},
     "output_type": "display_data"
    },
    {
     "name": "stdout",
     "output_type": "stream",
     "text": [
      "Populating the interactive namespace from numpy and matplotlib\n"
     ]
    }
   ],
   "source": [
    "# Import the QICK drivers and auxiliary libraries\n",
    "from qick import *\n",
    "import time\n",
    "%pylab inline"
   ]
  },
  {
   "cell_type": "code",
   "execution_count": 2,
   "metadata": {
    "scrolled": false
   },
   "outputs": [
    {
     "name": "stdout",
     "output_type": "stream",
     "text": [
      "\n",
      "QICK configuration:\n",
      "\n",
      "\tBoard: ZCU216\n",
      "\n",
      "\tGlobal clocks (MHz): tProcessor 349.997, RF reference 245.760\n",
      "\n",
      "\t7 signal generator channels:\n",
      "\t0:\taxis_sg_int4_v1 - tProc output 0, switch ch 0, maxlen 4096\n",
      "\t\tDAC tile 2, ch 0, 16-bit DDS, fabric=430.080 MHz, fs=1720.320 MHz\n",
      "\t1:\taxis_sg_int4_v1 - tProc output 1, switch ch 1, maxlen 4096\n",
      "\t\tDAC tile 2, ch 1, 16-bit DDS, fabric=430.080 MHz, fs=1720.320 MHz\n",
      "\t2:\taxis_sg_int4_v1 - tProc output 2, switch ch 2, maxlen 4096\n",
      "\t\tDAC tile 2, ch 2, 16-bit DDS, fabric=430.080 MHz, fs=1720.320 MHz\n",
      "\t3:\taxis_sg_int4_v1 - tProc output 3, switch ch 3, maxlen 4096\n",
      "\t\tDAC tile 2, ch 3, 16-bit DDS, fabric=430.080 MHz, fs=1720.320 MHz\n",
      "\t4:\taxis_signal_gen_v6 - tProc output 4, switch ch 4, maxlen 65536\n",
      "\t\tDAC tile 3, ch 0, 32-bit DDS, fabric=599.040 MHz, fs=9584.640 MHz\n",
      "\t5:\taxis_signal_gen_v6 - tProc output 5, switch ch 5, maxlen 65536\n",
      "\t\tDAC tile 3, ch 1, 32-bit DDS, fabric=599.040 MHz, fs=9584.640 MHz\n",
      "\t6:\taxis_sg_mux4_v2 - tProc output 6, switch ch -1, maxlen 0\n",
      "\t\tDAC tile 0, ch 0, 32-bit DDS, fabric=430.080 MHz, fs=1720.320 MHz\n",
      "\n",
      "\t4 constant-IQ outputs:\n",
      "\t0:\tDAC tile 1, ch 0, fs=6881.280 MHz\n",
      "\t1:\tDAC tile 1, ch 1, fs=6881.280 MHz\n",
      "\t2:\tDAC tile 1, ch 2, fs=6881.280 MHz\n",
      "\t3:\tDAC tile 1, ch 3, fs=6881.280 MHz\n",
      "\n",
      "\t4 readout channels:\n",
      "\t0:\tADC tile 2, ch 0, 35-bit DDS, fabric=307.200 MHz, fs=2457.600 MHz\n",
      "\t\tmaxlen 1024 (avg) 1024 (decimated), trigger 4, tProc input 0\n",
      "\t1:\tADC tile 2, ch 0, 35-bit DDS, fabric=307.200 MHz, fs=2457.600 MHz\n",
      "\t\tmaxlen 1024 (avg) 1024 (decimated), trigger 5, tProc input 1\n",
      "\t2:\tADC tile 2, ch 0, 35-bit DDS, fabric=307.200 MHz, fs=2457.600 MHz\n",
      "\t\tmaxlen 1024 (avg) 1024 (decimated), trigger 6, tProc input 2\n",
      "\t3:\tADC tile 2, ch 0, 35-bit DDS, fabric=307.200 MHz, fs=2457.600 MHz\n",
      "\t\tmaxlen 1024 (avg) 1024 (decimated), trigger 7, tProc input 3\n",
      "\n",
      "\ttProc: 1024 words program memory, 1024 words data memory\n"
     ]
    }
   ],
   "source": [
    "# Load bitstream with custom overlay\n",
    "# soc = QickSoc()\n",
    "# soc = QickSoc(bitfile=\"q3diamond.bit\", force_init_clks=True)\n",
    "soc = QickSoc(bitfile=\"q3diamond.bit\")\n",
    "# soc = QickSoc(bitfile=\"../../qick-amo/pynq/qick-amo.bit\")\n",
    "\n",
    "# Since we're running locally on the QICK, we don't need a separate QickConfig object.\n",
    "# If running remotely, you could generate a QickConfig from the QickSoc:\n",
    "#     soccfg = QickConfig(soc.get_cfg())\n",
    "# or save the config to file, and load it later:\n",
    "#     with open(\"qick_config.json\", \"w\") as f:\n",
    "#         f.write(soc.dump_cfg())\n",
    "#     soccfg = QickConfig(\"qick_config.json\")\n",
    "soccfg = soc\n",
    "print(soccfg)\n"
   ]
  },
  {
   "cell_type": "markdown",
   "metadata": {},
   "source": [
    "### misc\n",
    "you don't have to run these three cells, they are just to demonstrate ways of directly accessing the readout and gen objects."
   ]
  },
  {
   "cell_type": "code",
   "execution_count": null,
   "metadata": {},
   "outputs": [],
   "source": [
    "for gen in soc.gens:\n",
    "    print(gen)\n",
    "    if gen.HAS_MIXER:\n",
    "        print(gen.get_mixer_freq())\n",
    "    if hasattr(gen, 'get_freq'):\n",
    "        print([gen.get_freq(i) for i in range(4)])"
   ]
  },
  {
   "cell_type": "code",
   "execution_count": null,
   "metadata": {},
   "outputs": [],
   "source": [
    "soc.tproc.single_write(0,2**32)\n",
    "print(soc.tproc.single_read(0))"
   ]
  },
  {
   "cell_type": "code",
   "execution_count": null,
   "metadata": {},
   "outputs": [],
   "source": [
    "for ro in soc.readouts:\n",
    "    print(ro.get_freq())"
   ]
  },
  {
   "cell_type": "code",
   "execution_count": null,
   "metadata": {},
   "outputs": [],
   "source": [
    "for iq in soc.iqs:\n",
    "    iq.set_iq(0,0)\n",
    "    iq.set_mixer_freq(0)"
   ]
  },
  {
   "cell_type": "markdown",
   "metadata": {},
   "source": [
    "### Waveform signal generators (signal_gen, sg_int4)\n",
    "In these demos you can set res_ch to any signal generator that supports waveforms - either a signal_gen or an sg_int4.\n",
    "If you use an sg_int4, you could also set the mixer_freq to a nonzero value.\n",
    "\n"
   ]
  },
  {
   "cell_type": "code",
   "execution_count": null,
   "metadata": {},
   "outputs": [],
   "source": [
    "class LoopbackProgram(AveragerProgram):\n",
    "    def initialize(self):\n",
    "        cfg=self.cfg   \n",
    "        res_ch = cfg[\"res_ch\"]\n",
    "        self.declare_gen(ch=res_ch, nqz=2, mixer_freq=cfg[\"mixer_freq\"], ro_ch=cfg[\"ro_chs\"][0])\n",
    "\n",
    "        #configure the readout lengths and downconversion frequencies\n",
    "        for ro_ch in cfg[\"ro_chs\"]:\n",
    "            self.declare_readout(ch=ro_ch, freq=cfg[\"pulse_freq\"], length=cfg[\"readout_length\"], gen_ch=cfg[\"res_ch\"])\n",
    "        \n",
    "        style=self.cfg[\"pulse_style\"]\n",
    "        freq=self.freq2reg(cfg[\"pulse_freq\"],gen_ch=res_ch, ro_ch=cfg[\"ro_chs\"][0])  # convert frequency to dac frequency (ensuring it is an available adc frequency)\n",
    "        phase=self.deg2reg(cfg[\"res_phase\"],gen_ch=res_ch)\n",
    "        print(\"generator freq:\", self.reg2freq(freq, gen_ch=res_ch))\n",
    "        \n",
    "        if style in [\"flat_top\",\"arb\"]:\n",
    "            sigma = cfg[\"sigma\"]\n",
    "            self.add_gauss(ch=res_ch, name=\"measure\", sigma=sigma, length=5*sigma)\n",
    "        if style == \"const\":\n",
    "            self.set_pulse_registers(ch=res_ch, style=style, freq=freq, phase=phase, gain=cfg[\"pulse_gain\"], length=cfg[\"length\"],mode='periodic')\n",
    "        elif style == \"flat_top\":\n",
    "            self.set_pulse_registers(ch=res_ch, style=style, freq=freq, phase=phase, gain=cfg[\"pulse_gain\"], waveform=\"measure\", length=cfg[\"length\"])\n",
    "        elif style == \"arb\":\n",
    "            self.set_pulse_registers(ch=res_ch, style=style, freq=freq, phase=phase, gain=cfg[\"pulse_gain\"], waveform=\"measure\")\n",
    "        \n",
    "        self.synci(200)  # give processor some time to configure pulses\n",
    "    \n",
    "    def body(self):\n",
    "        self.measure(pulse_ch=self.cfg[\"res_ch\"], \n",
    "                     adcs=self.ro_chs,\n",
    "                     pins=[0], \n",
    "                     adc_trig_offset=self.cfg[\"adc_trig_offset\"],\n",
    "                     wait=True,\n",
    "                     syncdelay=self.us2cycles(self.cfg[\"relax_delay\"]))"
   ]
  },
  {
   "cell_type": "markdown",
   "metadata": {},
   "source": [
    "### Send/receive a pulse with <code> pulse_style </code> = <code> const </code>"
   ]
  },
  {
   "cell_type": "code",
   "execution_count": null,
   "metadata": {},
   "outputs": [],
   "source": [
    "config={\"res_ch\":4, # --Fixed\n",
    "        \"mixer_freq\":0.0, # MHz\n",
    "        \"ro_chs\":[0], # --Fixed\n",
    "        \"reps\":1, # --Fixed\n",
    "        \"relax_delay\":10, # --Fixed\n",
    "        \"res_phase\":0, # --Fixed\n",
    "        \"pulse_style\": \"const\", # --Fixed\n",
    "        \n",
    "        \"length\":50, # [Clock ticks]\n",
    "        # Try varying length from 10-100 clock ticks\n",
    "        \n",
    "        \"readout_length\":200, # [Clock ticks]\n",
    "        # Try varying readout_length from 50-1000 clock ticks\n",
    "\n",
    "        \"pulse_gain\":2**15-2, # [DAC units]\n",
    "        # Try varying pulse_gain from 500 to 30000 DAC units\n",
    "\n",
    "        \"pulse_freq\": 6500, # [MHz]\n",
    "        # In this program the signal is up and downconverted digitally so you won't see any frequency\n",
    "        # components in the I/Q traces below. But since the signal gain depends on frequency, \n",
    "        # if you lower pulse_freq you will see an increased gain.\n",
    "\n",
    "        \"adc_trig_offset\": 100, # [Clock ticks]\n",
    "        # Try varying adc_trig_offset from 100 to 220 clock ticks\n",
    "\n",
    "        \"soft_avgs\":100\n",
    "        # Try varying soft_avgs from 1 to 200 averages\n",
    "\n",
    "       }\n",
    "\n",
    "###################\n",
    "# Try it yourself !\n",
    "###################\n",
    "\n",
    "prog =LoopbackProgram(soccfg, config)\n",
    "soc.reset_gens() # clear any DC or periodic values on generators\n",
    "iq_list = prog.acquire_decimated(soc, load_pulses=True, progress=True, debug=False)\n",
    "# print(prog)"
   ]
  },
  {
   "cell_type": "markdown",
   "metadata": {},
   "source": [
    "### Send/receive a pulse with <code> pulse_style </code> = <code> flat_top </code>"
   ]
  },
  {
   "cell_type": "code",
   "execution_count": null,
   "metadata": {},
   "outputs": [],
   "source": [
    "config={\"res_ch\":0, # --Fixed\n",
    "        \"mixer_freq\":0.0, # MHz\n",
    "        \"ro_chs\":[0], # --Fixed\n",
    "        \"reps\":1, # --Fixed\n",
    "        \"relax_delay\":1, # --Fixed\n",
    "        \"res_phase\":0, # --Fixed\n",
    "        \"pulse_style\": \"flat_top\", # --Fixed\n",
    "        \"length\": 50, # [Clock ticks]\n",
    "        # Try varying  length from 10-100 clock ticks\n",
    "        \"sigma\": 30, # [Clock ticks]\n",
    "        # Try varying sigma from 10-50 clock ticks\n",
    "        \n",
    "        \"readout_length\":200, # [Clock ticks]\n",
    "        # Try varying readout_length from 50-1000 clock ticks\n",
    "\n",
    "        \"pulse_gain\":30000, # [DAC units]\n",
    "        # Try varying pulse_gain from 500 to 30000 DAC units\n",
    "\n",
    "        \"pulse_freq\": 100, # [MHz]\n",
    "        # In this program the signal is up and downconverted digitally so you won't see any frequency\n",
    "        # components in the I/Q traces below. But since the signal gain depends on frequency, \n",
    "        # if you lower pulse_freq you will see an increased gain.\n",
    "\n",
    "        \"adc_trig_offset\": 100, # [Clock ticks]\n",
    "        # Try varying adc_trig_offset from 100 to 220 clock ticks\n",
    "\n",
    "        \"soft_avgs\":100\n",
    "        # Try varying soft_avgs from 1 to 200 averages\n",
    "\n",
    "       }\n",
    "\n",
    "# The first half of idata ramps up the flat_top pulse, the second half ramps down the flat_top pulse\n",
    "\n",
    "###################\n",
    "# Try it yourself !\n",
    "###################\n",
    "\n",
    "prog =LoopbackProgram(soccfg, config)\n",
    "soc.reset_gens() # clear any DC or periodic values on generators\n",
    "iq_list = prog.acquire_decimated(soc, load_pulses=True, progress=True, debug=False)\n",
    "# print(prog)"
   ]
  },
  {
   "cell_type": "markdown",
   "metadata": {},
   "source": [
    "### Send/receive a pulse with <code> pulse_style </code> = <code> arb </code>"
   ]
  },
  {
   "cell_type": "code",
   "execution_count": null,
   "metadata": {},
   "outputs": [],
   "source": [
    "config={\"res_ch\":0, # --Fixed\n",
    "        \"mixer_freq\":0.0, # MHz\n",
    "        \"ro_chs\":[0], # --Fixed\n",
    "        \"reps\":1, # --Fixed\n",
    "        \"relax_delay\":1, # --Fixed\n",
    "        \"res_phase\":0, # --Fixed\n",
    "        \"pulse_style\": \"arb\", # --Fixed\n",
    "        \n",
    "        \"sigma\": 30, # [Clock ticks]\n",
    "        # Try varying sigma from 10-50 clock ticks\n",
    "        \n",
    "        \"readout_length\":200, # [Clock ticks]\n",
    "        # Try varying readout_length from 50-1000 clock ticks\n",
    "\n",
    "        \"pulse_gain\":30000, # [DAC units]\n",
    "        # Try varying pulse_gain from 500 to 30000 DAC units\n",
    "\n",
    "        \"pulse_freq\": 100, # [MHz]\n",
    "        # In this program the signal is up and downconverted digitally so you won't see any frequency\n",
    "        # components in the I/Q traces below. But since the signal gain depends on frequency, \n",
    "        # if you lower pulse_freq you will see an increased gain.\n",
    "\n",
    "        \"adc_trig_offset\": 100, # [Clock ticks]\n",
    "        # Try varying adc_trig_offset from 100 to 220 clock ticks\n",
    "\n",
    "        \"soft_avgs\":1\n",
    "        # Try varying soft_avgs from 1 to 200 averages\n",
    "\n",
    "       }\n",
    "\n",
    "prog =LoopbackProgram(soccfg, config)\n",
    "soc.reset_gens() # clear any DC or periodic values on generators\n",
    "iq_list = prog.acquire_decimated(soc, load_pulses=True, progress=True, debug=False)\n",
    "# print(prog)"
   ]
  },
  {
   "cell_type": "code",
   "execution_count": null,
   "metadata": {},
   "outputs": [],
   "source": [
    "# Plot results.\n",
    "plt.figure(1)\n",
    "for ii, iq in enumerate(iq_list):\n",
    "    plt.plot(iq[0], label=\"I value, ADC %d\"%(config['ro_chs'][ii]))\n",
    "    plt.plot(iq[1], label=\"Q value, ADC %d\"%(config['ro_chs'][ii]))\n",
    "    plt.plot(np.abs(iq[0]+1j*iq[1]), label=\"mag, ADC %d\"%(config['ro_chs'][ii]))\n",
    "plt.ylabel(\"a.u.\")\n",
    "plt.xlabel(\"Clock ticks\")\n",
    "plt.title(\"Averages = \" + str(config[\"soft_avgs\"]))\n",
    "plt.legend()\n",
    "# plt.savefig(\"images/Send_recieve_pulse_const.pdf\", dpi=350)"
   ]
  },
  {
   "cell_type": "markdown",
   "metadata": {},
   "source": [
    "If you don't want to set a mixer freq and just want to use the mixer to trim the generator frequency, you could use the following program instead.\n",
    "\n",
    "Note that if you want to drive frequencies above the Nyquist limit of the generator, this is not the best way to do this - you would probably want to put a relatively low frequency on the generator and mix it up."
   ]
  },
  {
   "cell_type": "code",
   "execution_count": null,
   "metadata": {},
   "outputs": [],
   "source": [
    "class LoopbackProgram(AveragerProgram):\n",
    "    def __init__(self,soccfg,cfg):\n",
    "        super().__init__(soccfg,cfg)\n",
    "\n",
    "    def initialize(self):\n",
    "        cfg=self.cfg   \n",
    "        res_ch = cfg[\"res_ch\"]\n",
    "#         r_freq=self.sreg(cfg[\"res_ch\"], \"freq\")   #Get frequency register for res_ch\n",
    "        freq=self.freq2reg(cfg[\"pulse_freq\"],gen_ch=res_ch, ro_ch=cfg[\"ro_chs\"][0])  # convert frequency to dac frequency (ensuring it is an available adc frequency)\n",
    "        f_gen = self.reg2freq(freq, gen_ch=res_ch)\n",
    "        print(\"generator freq:\", f_gen)\n",
    "        \n",
    "        if self.soccfg['gens'][res_ch]['type'] == \"axis_sg_int4_v1\":\n",
    "            # The interpolated generator has poor frequency resolution, but it has an NCO that you can mix in.\n",
    "            f_mixer = cfg[\"pulse_freq\"]-f_gen\n",
    "            self.declare_gen(ch=res_ch, nqz=1, mixer_freq=f_mixer, ro_ch=cfg[\"ro_chs\"][0])\n",
    "        else:\n",
    "            self.declare_gen(ch=res_ch, nqz=1, ro_ch=cfg[\"ro_chs\"][0])\n",
    "\n",
    "        #configure the readout lengths and downconversion frequencies\n",
    "        for ro_ch in cfg[\"ro_chs\"]:\n",
    "            self.declare_readout(ch=ro_ch, freq=cfg[\"pulse_freq\"], length=cfg[\"readout_length\"], gen_ch=cfg[\"res_ch\"])\n",
    "        \n",
    "        style=self.cfg[\"pulse_style\"]\n",
    "        if style in [\"flat_top\",\"arb\"]:\n",
    "            sigma = cfg[\"sigma\"]\n",
    "            nsigma = 5\n",
    "            samples_per_clock = self.soccfg['gens'][res_ch]['samps_per_clk']\n",
    "            idata = helpers.gauss(mu=sigma*samples_per_clock*nsigma/2,\n",
    "                                  si=sigma*samples_per_clock,\n",
    "                                  length=sigma*samples_per_clock*nsigma,\n",
    "                                  maxv=np.iinfo(np.int16).max-1)\n",
    "            self.add_pulse(ch=res_ch, name=\"measure\", idata=idata) \n",
    "            \n",
    "        if style == \"const\":\n",
    "            self.set_pulse_registers(ch=res_ch, style=style, freq=freq, phase=0, gain=cfg[\"pulse_gain\"], length=cfg[\"length\"])\n",
    "        elif style == \"flat_top\":\n",
    "            self.set_pulse_registers(ch=res_ch, style=style, freq=freq, phase=0, gain=cfg[\"pulse_gain\"], waveform=\"measure\", length=cfg[\"length\"])\n",
    "        elif style == \"arb\":\n",
    "            self.set_pulse_registers(ch=res_ch, style=style, freq=freq, phase=0, gain=cfg[\"pulse_gain\"], waveform=\"measure\")\n",
    "        \n",
    "        self.synci(200)  # give processor some time to configure pulses\n",
    "    \n",
    "    def body(self):\n",
    "        self.synci(200) # give processor time to get ahead of the pulses\n",
    "        self.trigger(adcs=self.ro_chs,pins=[0],adc_trig_offset=self.cfg[\"adc_trig_offset\"])  # trigger the adc acquisition\n",
    "        self.pulse(ch=self.cfg[\"res_ch\"]) # play readout pulse\n",
    "        # control should wait until the readout is over\n",
    "        self.waiti(0, self.cfg[\"adc_trig_offset\"]+self.cfg[\"readout_length\"]) \n",
    "        self.sync_all(self.us2cycles(self.cfg[\"relax_delay\"]))  # sync all channels\n"
   ]
  },
  {
   "cell_type": "markdown",
   "metadata": {},
   "source": [
    "### sg_mux4\n",
    "This will work on both old (four non-PFB readouts) and new (one PFB readout) firmwares.\n",
    "With the old firmware, you'll need a splitter to wire the gen to all the readouts."
   ]
  },
  {
   "cell_type": "code",
   "execution_count": 3,
   "metadata": {},
   "outputs": [
    {
     "data": {
      "application/vnd.jupyter.widget-view+json": {
       "model_id": "f5f040a327244c7889d1c87c2df7900d",
       "version_major": 2,
       "version_minor": 0
      },
      "text/plain": [
       "  0%|          | 0/100 [00:00<?, ?it/s]"
      ]
     },
     "metadata": {},
     "output_type": "display_data"
    }
   ],
   "source": [
    "class LoopbackProgram(AveragerProgram):\n",
    "    def __init__(self,soccfg,cfg):\n",
    "        super().__init__(soccfg,cfg)\n",
    "\n",
    "    def initialize(self):\n",
    "        cfg=self.cfg   \n",
    "        self.declare_gen(ch=cfg[\"res_ch\"], nqz=1, \n",
    "                         mixer_freq=cfg[\"mixer_freq\"], \n",
    "                         mux_freqs=cfg[\"pulse_freqs\"], \n",
    "                         mux_gains=cfg[\"pulse_gains\"], \n",
    "                         ro_ch=cfg[\"ro_chs\"][0])\n",
    "        for iCh, ch in enumerate(cfg[\"ro_chs\"]): #configure the readout lengths and downconversion frequencies\n",
    "            self.declare_readout(ch=ch, freq=cfg[\"pulse_freqs\"][iCh], length=cfg[\"readout_length\"], gen_ch=cfg[\"res_ch\"])\n",
    "\n",
    "        self.set_pulse_registers(ch=cfg[\"res_ch\"], style=\"const\", length=cfg[\"length\"], mask=[0,1,2,3])\n",
    "        self.synci(200)  # give processor some time to configure pulses\n",
    "\n",
    "    def body(self):\n",
    "        self.synci(200) # give processor time to get ahead of the pulses\n",
    "        self.trigger(adcs=self.ro_chs, pins=[0],adc_trig_offset=self.cfg[\"adc_trig_offset\"])  # trigger the adc acquisition\n",
    "        self.pulse(ch=self.cfg[\"res_ch\"],t=0)\n",
    "\n",
    "        # control should wait until the readout is over\n",
    "        self.waiti(0, self.cfg[\"adc_trig_offset\"]+self.cfg[\"readout_length\"]) \n",
    "        self.sync_all(self.us2cycles(self.cfg[\"relax_delay\"]))  # sync all channels\n",
    "\n",
    "config={\"res_ch\":6, # --Fixed\n",
    "        \"mixer_freq\":1000.0, # MHz\n",
    "        \"ro_chs\":[0,1,2,3], # --Fixed\n",
    "        \"reps\":1, # --Fixed\n",
    "        \"relax_delay\":10, # --Fixed\n",
    "        \"pulse_style\": \"const\", # --Fixed\n",
    "        \n",
    "        \"length\":100, # [Clock ticks]\n",
    "        # Try varying length from 10-100 clock ticks\n",
    "        \n",
    "        \"readout_length\":300, # [Clock ticks]\n",
    "        # Try varying readout_length from 50-1000 clock ticks\n",
    "\n",
    "        \"pulse_freqs\": [100, 300, 500, 700], # [MHz]\n",
    "        # In this program the signal is up and downconverted digitally so you won't see any frequency\n",
    "        # components in the I/Q traces below. But since the signal gain depends on frequency, \n",
    "        # if you lower pulse_freq you will see an increased gain.\n",
    "        \n",
    "        \"pulse_gains\": [1.0, -0.8, 0.6, -0.4],\n",
    "\n",
    "        \"adc_trig_offset\": 50, # [Clock ticks]\n",
    "        # Try varying adc_trig_offset from 100 to 220 clock ticks\n",
    "\n",
    "        \"soft_avgs\":100\n",
    "        # Try varying soft_avgs from 1 to 200 averages\n",
    "       }\n",
    "\n",
    "###################\n",
    "# Try it yourself !\n",
    "###################\n",
    "\n",
    "prog =LoopbackProgram(soccfg, config)\n",
    "iq_list = prog.acquire_decimated(soc, load_pulses=True, progress=True, debug=False)\n",
    "# print(prog)"
   ]
  },
  {
   "cell_type": "code",
   "execution_count": 4,
   "metadata": {},
   "outputs": [
    {
     "data": {
      "image/png": "[encoded data removed]",
      "text/plain": [
       "<Figure size 720x720 with 4 Axes>"
      ]
     },
     "metadata": {
      "needs_background": "light"
     },
     "output_type": "display_data"
    }
   ],
   "source": [
    "# Plot results.\n",
    "fig, axs = plt.subplots(4,1,figsize=(10,10))\n",
    "\n",
    "for ii, iq in enumerate(iq_list):\n",
    "    plot = axs[ii]\n",
    "    plot.plot(iq[0], label=\"I value, ADC %d\"%(config['ro_chs'][ii]))\n",
    "    plot.plot(iq[1], label=\"Q value, ADC %d\"%(config['ro_chs'][ii]))\n",
    "    plot.plot(np.abs(iq[0]+1j*iq[1]), label=\"mag, ADC %d\"%(config['ro_chs'][ii]))\n",
    "    plot.set_ylabel(\"a.u.\")\n",
    "    plot.set_xlabel(\"Clock ticks\")\n",
    "    plot.set_title(\"Averages = \" + str(config[\"soft_avgs\"]))\n",
    "    plot.legend()"
   ]
  }
 ],
 "metadata": {
  "kernelspec": {
   "display_name": "Python 3",
   "language": "python",
   "name": "python3"
  },
  "language_info": {
   "codemirror_mode": {
    "name": "ipython",
    "version": 3
   },
   "file_extension": ".py",
   "mimetype": "text/x-python",
   "name": "python",
   "nbconvert_exporter": "python",
   "pygments_lexer": "ipython3",
   "version": "3.8.2"
  }
 },
 "nbformat": 4,
 "nbformat_minor": 2
}
